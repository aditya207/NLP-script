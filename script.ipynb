{
 "cells": [
  {
   "cell_type": "code",
   "execution_count": 26,
   "metadata": {
    "scrolled": true
   },
   "outputs": [
    {
     "data": {
      "text/html": [
       "<div>\n",
       "<style scoped>\n",
       "    .dataframe tbody tr th:only-of-type {\n",
       "        vertical-align: middle;\n",
       "    }\n",
       "\n",
       "    .dataframe tbody tr th {\n",
       "        vertical-align: top;\n",
       "    }\n",
       "\n",
       "    .dataframe thead th {\n",
       "        text-align: right;\n",
       "    }\n",
       "</style>\n",
       "<table border=\"1\" class=\"dataframe\">\n",
       "  <thead>\n",
       "    <tr style=\"text-align: right;\">\n",
       "      <th></th>\n",
       "      <th>session id</th>\n",
       "      <th>uuid</th>\n",
       "      <th>timestamp</th>\n",
       "      <th>location</th>\n",
       "      <th>location path</th>\n",
       "      <th>location query</th>\n",
       "      <th>referral location</th>\n",
       "      <th>ua_string</th>\n",
       "      <th>geo_ip</th>\n",
       "    </tr>\n",
       "  </thead>\n",
       "  <tbody>\n",
       "    <tr>\n",
       "      <td>0</td>\n",
       "      <td>3efae056-7cd2-4e89-9820-a1b938cbb746</td>\n",
       "      <td>9567f0c2-d71e-4ba3-afdc-d46e37894fb4</td>\n",
       "      <td>09/07/17 10:43</td>\n",
       "      <td>www.acmeservices.com</td>\n",
       "      <td>/editing-services/research-paper-editing-and-p...</td>\n",
       "      <td>keyword=edit%20paper&amp;matchtype=e&amp;device=c&amp;crea...</td>\n",
       "      <td>www.google.com</td>\n",
       "      <td>Mozilla/5.0 (Windows NT 10.0; Win64; x64) Appl...</td>\n",
       "      <td>73.132.164.124</td>\n",
       "    </tr>\n",
       "    <tr>\n",
       "      <td>1</td>\n",
       "      <td>7039c571-4487-4d96-8013-4b4b70e66dc7</td>\n",
       "      <td>NaN</td>\n",
       "      <td>09/07/17 10:44</td>\n",
       "      <td>www.acmeservices.com</td>\n",
       "      <td>/editing-services/english-language-editing-and...</td>\n",
       "      <td>keyword=professional%20editing%20services&amp;matc...</td>\n",
       "      <td>www.google.com</td>\n",
       "      <td>Mozilla/5.0 (Windows NT 10.0; Win64; x64) Appl...</td>\n",
       "      <td>100.35.108.133</td>\n",
       "    </tr>\n",
       "    <tr>\n",
       "      <td>2</td>\n",
       "      <td>5b31e12a-229f-4774-8dae-b7267d04cba2</td>\n",
       "      <td>9567f0c2-d71e-4ba3-afdc-d46e37894fb4</td>\n",
       "      <td>09/07/17 10:54</td>\n",
       "      <td>www.acmeservices.com</td>\n",
       "      <td>/editing-services/academic-editing-and-proofre...</td>\n",
       "      <td>keyword=academic%20proofreading&amp;matchtype=p&amp;de...</td>\n",
       "      <td>www.google.com</td>\n",
       "      <td>Mozilla/5.0 (Windows NT 10.0; Win64; x64) Appl...</td>\n",
       "      <td>73.132.164.124</td>\n",
       "    </tr>\n",
       "    <tr>\n",
       "      <td>3</td>\n",
       "      <td>f072cc36-105d-4c55-b5b0-3247243d9ddd</td>\n",
       "      <td>NaN</td>\n",
       "      <td>09/07/17 11:04</td>\n",
       "      <td>www.acmeservices.com</td>\n",
       "      <td>/editing-services/english-language-check-servi...</td>\n",
       "      <td>keyword=language%20editing%20service&amp;matchtype...</td>\n",
       "      <td>www.google.iq</td>\n",
       "      <td>Mozilla/5.0 (Windows NT 6.3; WOW64; Trident/7....</td>\n",
       "      <td>159.255.163.4</td>\n",
       "    </tr>\n",
       "    <tr>\n",
       "      <td>4</td>\n",
       "      <td>3fff8ecf-7ec1-4345-a132-5d150a0b0f8c</td>\n",
       "      <td>a01ef48d-8533-4c82-93e5-c3d7c7f04d07</td>\n",
       "      <td>09/07/17 12:08</td>\n",
       "      <td>www.acmeservices.com</td>\n",
       "      <td>/editing-services/english-language-editing-and...</td>\n",
       "      <td>keyword=language%20editing&amp;matchtype=p&amp;device=...</td>\n",
       "      <td>www.google.dk</td>\n",
       "      <td>Mozilla/5.0 (Windows NT 10.0; Win64; x64) Appl...</td>\n",
       "      <td>2.110.98.148</td>\n",
       "    </tr>\n",
       "    <tr>\n",
       "      <td>...</td>\n",
       "      <td>...</td>\n",
       "      <td>...</td>\n",
       "      <td>...</td>\n",
       "      <td>...</td>\n",
       "      <td>...</td>\n",
       "      <td>...</td>\n",
       "      <td>...</td>\n",
       "      <td>...</td>\n",
       "      <td>...</td>\n",
       "    </tr>\n",
       "    <tr>\n",
       "      <td>395</td>\n",
       "      <td>490d4b83-7075-41e4-92cb-d0c32d15685a</td>\n",
       "      <td>025acc45-7b6a-4c52-b838-777017d02a8b</td>\n",
       "      <td>15/07/17 10:01</td>\n",
       "      <td>www.acmeservices.co.kr</td>\n",
       "      <td>/</td>\n",
       "      <td>n_media=27758&amp;n_query=%EB%B2%88%EC%97%AD%EB%85...</td>\n",
       "      <td>search.naver.com</td>\n",
       "      <td>Mozilla/5.0 (Macintosh; Intel Mac OS X 10_12_5...</td>\n",
       "      <td>1.11.219.228</td>\n",
       "    </tr>\n",
       "    <tr>\n",
       "      <td>396</td>\n",
       "      <td>1e92b28a-b191-4f9a-95f1-3deca7e3d70d</td>\n",
       "      <td>NaN</td>\n",
       "      <td>15/07/17 10:58</td>\n",
       "      <td>www.acmeservices.co.kr</td>\n",
       "      <td>/</td>\n",
       "      <td>n_media=27758&amp;n_query=acmeservices&amp;n_rank=1&amp;n_...</td>\n",
       "      <td>search.naver.com</td>\n",
       "      <td>Mozilla/5.0 (Windows NT 6.1; Trident/7.0; rv:1...</td>\n",
       "      <td>118.216.204.247</td>\n",
       "    </tr>\n",
       "    <tr>\n",
       "      <td>397</td>\n",
       "      <td>29743b74-94fe-40c8-af70-010f47bac175</td>\n",
       "      <td>NaN</td>\n",
       "      <td>15/07/17 11:21</td>\n",
       "      <td>www.acmeservices.co.kr</td>\n",
       "      <td>/</td>\n",
       "      <td>n_media=27758&amp;n_query=%EB%85%BC%EB%AC%B8%EB%B2...</td>\n",
       "      <td>search.naver.com</td>\n",
       "      <td>Mozilla/5.0 (Windows NT 6.1; WOW64; Trident/7....</td>\n",
       "      <td>112.166.57.50</td>\n",
       "    </tr>\n",
       "    <tr>\n",
       "      <td>398</td>\n",
       "      <td>3b43b526-1fb0-4f77-92ed-177e6639abc0</td>\n",
       "      <td>4b27c9b2-c5d8-4b0e-ad69-aac57ef51dfe</td>\n",
       "      <td>15/07/17 12:15</td>\n",
       "      <td>www.acmeservices.co.kr</td>\n",
       "      <td>/</td>\n",
       "      <td>n_media=27758&amp;n_query=%EB%85%BC%EB%AC%B8%EB%B2...</td>\n",
       "      <td>search.naver.com</td>\n",
       "      <td>Mozilla/5.0 (Windows NT 10.0; Win64; x64) Appl...</td>\n",
       "      <td>61.73.110.21</td>\n",
       "    </tr>\n",
       "    <tr>\n",
       "      <td>399</td>\n",
       "      <td>3a80a9bc-b7ec-44ac-b6eb-55adbfd8e2c6</td>\n",
       "      <td>NaN</td>\n",
       "      <td>15/07/17 12:37</td>\n",
       "      <td>www.acmeservices.co.kr</td>\n",
       "      <td>/</td>\n",
       "      <td>keyword=%EC%97%90%EB%94%94%ED%8B%B0%EC%A7%80&amp;m...</td>\n",
       "      <td>NaN</td>\n",
       "      <td>Mozilla/5.0 (Windows NT 6.1; WOW64; Trident/7....</td>\n",
       "      <td>128.134.207.82</td>\n",
       "    </tr>\n",
       "  </tbody>\n",
       "</table>\n",
       "<p>400 rows × 9 columns</p>\n",
       "</div>"
      ],
      "text/plain": [
       "                               session id  \\\n",
       "0    3efae056-7cd2-4e89-9820-a1b938cbb746   \n",
       "1    7039c571-4487-4d96-8013-4b4b70e66dc7   \n",
       "2    5b31e12a-229f-4774-8dae-b7267d04cba2   \n",
       "3    f072cc36-105d-4c55-b5b0-3247243d9ddd   \n",
       "4    3fff8ecf-7ec1-4345-a132-5d150a0b0f8c   \n",
       "..                                    ...   \n",
       "395  490d4b83-7075-41e4-92cb-d0c32d15685a   \n",
       "396  1e92b28a-b191-4f9a-95f1-3deca7e3d70d   \n",
       "397  29743b74-94fe-40c8-af70-010f47bac175   \n",
       "398  3b43b526-1fb0-4f77-92ed-177e6639abc0   \n",
       "399  3a80a9bc-b7ec-44ac-b6eb-55adbfd8e2c6   \n",
       "\n",
       "                                     uuid       timestamp  \\\n",
       "0    9567f0c2-d71e-4ba3-afdc-d46e37894fb4  09/07/17 10:43   \n",
       "1                                     NaN  09/07/17 10:44   \n",
       "2    9567f0c2-d71e-4ba3-afdc-d46e37894fb4  09/07/17 10:54   \n",
       "3                                     NaN  09/07/17 11:04   \n",
       "4    a01ef48d-8533-4c82-93e5-c3d7c7f04d07  09/07/17 12:08   \n",
       "..                                    ...             ...   \n",
       "395  025acc45-7b6a-4c52-b838-777017d02a8b  15/07/17 10:01   \n",
       "396                                   NaN  15/07/17 10:58   \n",
       "397                                   NaN  15/07/17 11:21   \n",
       "398  4b27c9b2-c5d8-4b0e-ad69-aac57ef51dfe  15/07/17 12:15   \n",
       "399                                   NaN  15/07/17 12:37   \n",
       "\n",
       "                   location  \\\n",
       "0      www.acmeservices.com   \n",
       "1      www.acmeservices.com   \n",
       "2      www.acmeservices.com   \n",
       "3      www.acmeservices.com   \n",
       "4      www.acmeservices.com   \n",
       "..                      ...   \n",
       "395  www.acmeservices.co.kr   \n",
       "396  www.acmeservices.co.kr   \n",
       "397  www.acmeservices.co.kr   \n",
       "398  www.acmeservices.co.kr   \n",
       "399  www.acmeservices.co.kr   \n",
       "\n",
       "                                         location path  \\\n",
       "0    /editing-services/research-paper-editing-and-p...   \n",
       "1    /editing-services/english-language-editing-and...   \n",
       "2    /editing-services/academic-editing-and-proofre...   \n",
       "3    /editing-services/english-language-check-servi...   \n",
       "4    /editing-services/english-language-editing-and...   \n",
       "..                                                 ...   \n",
       "395                                                  /   \n",
       "396                                                  /   \n",
       "397                                                  /   \n",
       "398                                                  /   \n",
       "399                                                  /   \n",
       "\n",
       "                                        location query referral location  \\\n",
       "0    keyword=edit%20paper&matchtype=e&device=c&crea...    www.google.com   \n",
       "1    keyword=professional%20editing%20services&matc...    www.google.com   \n",
       "2    keyword=academic%20proofreading&matchtype=p&de...    www.google.com   \n",
       "3    keyword=language%20editing%20service&matchtype...     www.google.iq   \n",
       "4    keyword=language%20editing&matchtype=p&device=...     www.google.dk   \n",
       "..                                                 ...               ...   \n",
       "395  n_media=27758&n_query=%EB%B2%88%EC%97%AD%EB%85...  search.naver.com   \n",
       "396  n_media=27758&n_query=acmeservices&n_rank=1&n_...  search.naver.com   \n",
       "397  n_media=27758&n_query=%EB%85%BC%EB%AC%B8%EB%B2...  search.naver.com   \n",
       "398  n_media=27758&n_query=%EB%85%BC%EB%AC%B8%EB%B2...  search.naver.com   \n",
       "399  keyword=%EC%97%90%EB%94%94%ED%8B%B0%EC%A7%80&m...               NaN   \n",
       "\n",
       "                                             ua_string           geo_ip  \n",
       "0    Mozilla/5.0 (Windows NT 10.0; Win64; x64) Appl...   73.132.164.124  \n",
       "1    Mozilla/5.0 (Windows NT 10.0; Win64; x64) Appl...   100.35.108.133  \n",
       "2    Mozilla/5.0 (Windows NT 10.0; Win64; x64) Appl...   73.132.164.124  \n",
       "3    Mozilla/5.0 (Windows NT 6.3; WOW64; Trident/7....    159.255.163.4  \n",
       "4    Mozilla/5.0 (Windows NT 10.0; Win64; x64) Appl...     2.110.98.148  \n",
       "..                                                 ...              ...  \n",
       "395  Mozilla/5.0 (Macintosh; Intel Mac OS X 10_12_5...     1.11.219.228  \n",
       "396  Mozilla/5.0 (Windows NT 6.1; Trident/7.0; rv:1...  118.216.204.247  \n",
       "397  Mozilla/5.0 (Windows NT 6.1; WOW64; Trident/7....    112.166.57.50  \n",
       "398  Mozilla/5.0 (Windows NT 10.0; Win64; x64) Appl...     61.73.110.21  \n",
       "399  Mozilla/5.0 (Windows NT 6.1; WOW64; Trident/7....   128.134.207.82  \n",
       "\n",
       "[400 rows x 9 columns]"
      ]
     },
     "execution_count": 26,
     "metadata": {},
     "output_type": "execute_result"
    }
   ],
   "source": [
    "import numpy as np \n",
    "import pandas as pd\n",
    "df = pd.read_csv('sample_data.csv')\n",
    "pd.DataFrame(df)"
   ]
  },
  {
   "cell_type": "code",
   "execution_count": 27,
   "metadata": {
    "scrolled": true
   },
   "outputs": [
    {
     "data": {
      "text/html": [
       "<div>\n",
       "<style scoped>\n",
       "    .dataframe tbody tr th:only-of-type {\n",
       "        vertical-align: middle;\n",
       "    }\n",
       "\n",
       "    .dataframe tbody tr th {\n",
       "        vertical-align: top;\n",
       "    }\n",
       "\n",
       "    .dataframe thead th {\n",
       "        text-align: right;\n",
       "    }\n",
       "</style>\n",
       "<table border=\"1\" class=\"dataframe\">\n",
       "  <thead>\n",
       "    <tr style=\"text-align: right;\">\n",
       "      <th></th>\n",
       "      <th>session id</th>\n",
       "      <th>uuid</th>\n",
       "      <th>timestamp</th>\n",
       "      <th>location</th>\n",
       "      <th>location path</th>\n",
       "      <th>location query</th>\n",
       "      <th>referral location</th>\n",
       "      <th>ua_string</th>\n",
       "      <th>geo_ip</th>\n",
       "    </tr>\n",
       "  </thead>\n",
       "  <tbody>\n",
       "    <tr>\n",
       "      <td>0</td>\n",
       "      <td>3efae056-7cd2-4e89-9820-a1b938cbb746</td>\n",
       "      <td>9567f0c2-d71e-4ba3-afdc-d46e37894fb4</td>\n",
       "      <td>09/07/17 10:43</td>\n",
       "      <td>www.acmeservices.com</td>\n",
       "      <td>/editing-services/research-paper-editing-and-p...</td>\n",
       "      <td>keyword=edit%20paper&amp;matchtype=e&amp;device=c&amp;crea...</td>\n",
       "      <td>www.google.com</td>\n",
       "      <td>Mozilla/5.0 (Windows NT 10.0; Win64; x64) Appl...</td>\n",
       "      <td>73.132.164.124</td>\n",
       "    </tr>\n",
       "    <tr>\n",
       "      <td>1</td>\n",
       "      <td>7039c571-4487-4d96-8013-4b4b70e66dc7</td>\n",
       "      <td>NaN</td>\n",
       "      <td>09/07/17 10:44</td>\n",
       "      <td>www.acmeservices.com</td>\n",
       "      <td>/editing-services/english-language-editing-and...</td>\n",
       "      <td>keyword=professional%20editing%20services&amp;matc...</td>\n",
       "      <td>www.google.com</td>\n",
       "      <td>Mozilla/5.0 (Windows NT 10.0; Win64; x64) Appl...</td>\n",
       "      <td>100.35.108.133</td>\n",
       "    </tr>\n",
       "    <tr>\n",
       "      <td>2</td>\n",
       "      <td>5b31e12a-229f-4774-8dae-b7267d04cba2</td>\n",
       "      <td>9567f0c2-d71e-4ba3-afdc-d46e37894fb4</td>\n",
       "      <td>09/07/17 10:54</td>\n",
       "      <td>www.acmeservices.com</td>\n",
       "      <td>/editing-services/academic-editing-and-proofre...</td>\n",
       "      <td>keyword=academic%20proofreading&amp;matchtype=p&amp;de...</td>\n",
       "      <td>www.google.com</td>\n",
       "      <td>Mozilla/5.0 (Windows NT 10.0; Win64; x64) Appl...</td>\n",
       "      <td>73.132.164.124</td>\n",
       "    </tr>\n",
       "    <tr>\n",
       "      <td>3</td>\n",
       "      <td>f072cc36-105d-4c55-b5b0-3247243d9ddd</td>\n",
       "      <td>NaN</td>\n",
       "      <td>09/07/17 11:04</td>\n",
       "      <td>www.acmeservices.com</td>\n",
       "      <td>/editing-services/english-language-check-servi...</td>\n",
       "      <td>keyword=language%20editing%20service&amp;matchtype...</td>\n",
       "      <td>www.google.iq</td>\n",
       "      <td>Mozilla/5.0 (Windows NT 6.3; WOW64; Trident/7....</td>\n",
       "      <td>159.255.163.4</td>\n",
       "    </tr>\n",
       "    <tr>\n",
       "      <td>4</td>\n",
       "      <td>3fff8ecf-7ec1-4345-a132-5d150a0b0f8c</td>\n",
       "      <td>a01ef48d-8533-4c82-93e5-c3d7c7f04d07</td>\n",
       "      <td>09/07/17 12:08</td>\n",
       "      <td>www.acmeservices.com</td>\n",
       "      <td>/editing-services/english-language-editing-and...</td>\n",
       "      <td>keyword=language%20editing&amp;matchtype=p&amp;device=...</td>\n",
       "      <td>www.google.dk</td>\n",
       "      <td>Mozilla/5.0 (Windows NT 10.0; Win64; x64) Appl...</td>\n",
       "      <td>2.110.98.148</td>\n",
       "    </tr>\n",
       "  </tbody>\n",
       "</table>\n",
       "</div>"
      ],
      "text/plain": [
       "                             session id                                  uuid  \\\n",
       "0  3efae056-7cd2-4e89-9820-a1b938cbb746  9567f0c2-d71e-4ba3-afdc-d46e37894fb4   \n",
       "1  7039c571-4487-4d96-8013-4b4b70e66dc7                                   NaN   \n",
       "2  5b31e12a-229f-4774-8dae-b7267d04cba2  9567f0c2-d71e-4ba3-afdc-d46e37894fb4   \n",
       "3  f072cc36-105d-4c55-b5b0-3247243d9ddd                                   NaN   \n",
       "4  3fff8ecf-7ec1-4345-a132-5d150a0b0f8c  a01ef48d-8533-4c82-93e5-c3d7c7f04d07   \n",
       "\n",
       "        timestamp              location  \\\n",
       "0  09/07/17 10:43  www.acmeservices.com   \n",
       "1  09/07/17 10:44  www.acmeservices.com   \n",
       "2  09/07/17 10:54  www.acmeservices.com   \n",
       "3  09/07/17 11:04  www.acmeservices.com   \n",
       "4  09/07/17 12:08  www.acmeservices.com   \n",
       "\n",
       "                                       location path  \\\n",
       "0  /editing-services/research-paper-editing-and-p...   \n",
       "1  /editing-services/english-language-editing-and...   \n",
       "2  /editing-services/academic-editing-and-proofre...   \n",
       "3  /editing-services/english-language-check-servi...   \n",
       "4  /editing-services/english-language-editing-and...   \n",
       "\n",
       "                                      location query referral location  \\\n",
       "0  keyword=edit%20paper&matchtype=e&device=c&crea...    www.google.com   \n",
       "1  keyword=professional%20editing%20services&matc...    www.google.com   \n",
       "2  keyword=academic%20proofreading&matchtype=p&de...    www.google.com   \n",
       "3  keyword=language%20editing%20service&matchtype...     www.google.iq   \n",
       "4  keyword=language%20editing&matchtype=p&device=...     www.google.dk   \n",
       "\n",
       "                                           ua_string          geo_ip  \n",
       "0  Mozilla/5.0 (Windows NT 10.0; Win64; x64) Appl...  73.132.164.124  \n",
       "1  Mozilla/5.0 (Windows NT 10.0; Win64; x64) Appl...  100.35.108.133  \n",
       "2  Mozilla/5.0 (Windows NT 10.0; Win64; x64) Appl...  73.132.164.124  \n",
       "3  Mozilla/5.0 (Windows NT 6.3; WOW64; Trident/7....   159.255.163.4  \n",
       "4  Mozilla/5.0 (Windows NT 10.0; Win64; x64) Appl...    2.110.98.148  "
      ]
     },
     "execution_count": 27,
     "metadata": {},
     "output_type": "execute_result"
    }
   ],
   "source": [
    "df.head()"
   ]
  },
  {
   "cell_type": "code",
   "execution_count": 28,
   "metadata": {},
   "outputs": [],
   "source": [
    "\n",
    "df[\"referral location1\"] = df[\"referral location\"].str.split(\".\").str[1]\n"
   ]
  },
  {
   "cell_type": "code",
   "execution_count": 29,
   "metadata": {
    "scrolled": false
   },
   "outputs": [
    {
     "data": {
      "text/plain": [
       "google               171\n",
       "baidu                 56\n",
       "naver                 41\n",
       "so                    19\n",
       "googleadservices      12\n",
       "googlesyndication      7\n",
       "ad                     6\n",
       "g                      5\n",
       "126                    3\n",
       "sogou                  3\n",
       "bing                   2\n",
       "163                    2\n",
       "facebook               2\n",
       "sciencenet             1\n",
       "search                 1\n",
       "daum                   1\n",
       "kps                    1\n",
       "hk                     1\n",
       "outbrain               1\n",
       "msn                    1\n",
       "Name: referral location1, dtype: int64"
      ]
     },
     "execution_count": 29,
     "metadata": {},
     "output_type": "execute_result"
    }
   ],
   "source": [
    "df[\"referral location1\"].value_counts()"
   ]
  },
  {
   "cell_type": "code",
   "execution_count": 32,
   "metadata": {},
   "outputs": [
    {
     "data": {
      "image/png": "[encoded data removed]",
      "text/plain": [
       "<Figure size 432x288 with 1 Axes>"
      ]
     },
     "metadata": {
      "needs_background": "light"
     },
     "output_type": "display_data"
    }
   ],
   "source": [
    "import matplotlib.pyplot as plt\n",
    "df[\"referral location1\"].value_counts().plot(kind='bar',position=1,width=0.75)\n",
    "width=0.50\n",
    "plt.xlabel('Search Engines', fontsize=20)\n",
    "plt.ylabel('Number of times', fontsize=20)\n",
    "plt.xticks(fontsize=15, rotation=90)\n",
    "plt.title('Referral Location')\n",
    "plt.show()"
   ]
  },
  {
   "cell_type": "code",
   "execution_count": 33,
   "metadata": {},
   "outputs": [
    {
     "name": "stdout",
     "output_type": "stream",
     "text": [
      "0      Mozilla/5.0 (Windows NT 10.0; Win64; x64) Appl...\n",
      "1      Mozilla/5.0 (Windows NT 10.0; Win64; x64) Appl...\n",
      "2      Mozilla/5.0 (Windows NT 10.0; Win64; x64) Appl...\n",
      "3      Mozilla/5.0 (Windows NT 6.3; WOW64; Trident/7....\n",
      "4      Mozilla/5.0 (Windows NT 10.0; Win64; x64) Appl...\n",
      "                             ...                        \n",
      "395    Mozilla/5.0 (Macintosh; Intel Mac OS X 10_12_5...\n",
      "396    Mozilla/5.0 (Windows NT 6.1; Trident/7.0; rv:1...\n",
      "397    Mozilla/5.0 (Windows NT 6.1; WOW64; Trident/7....\n",
      "398    Mozilla/5.0 (Windows NT 10.0; Win64; x64) Appl...\n",
      "399    Mozilla/5.0 (Windows NT 6.1; WOW64; Trident/7....\n",
      "Name: ua_string, Length: 400, dtype: object\n"
     ]
    }
   ],
   "source": [
    "from ua_parser import user_agent_parser\n",
    "import pprint\n",
    "df_uastring=df[\"ua_string\"]\n",
    "print(df_uastring)"
   ]
  },
  {
   "cell_type": "code",
   "execution_count": 35,
   "metadata": {
    "scrolled": true
   },
   "outputs": [
    {
     "data": {
      "text/html": [
       "<div>\n",
       "<style scoped>\n",
       "    .dataframe tbody tr th:only-of-type {\n",
       "        vertical-align: middle;\n",
       "    }\n",
       "\n",
       "    .dataframe tbody tr th {\n",
       "        vertical-align: top;\n",
       "    }\n",
       "\n",
       "    .dataframe thead th {\n",
       "        text-align: right;\n",
       "    }\n",
       "</style>\n",
       "<table border=\"1\" class=\"dataframe\">\n",
       "  <thead>\n",
       "    <tr style=\"text-align: right;\">\n",
       "      <th></th>\n",
       "      <th>user_agent</th>\n",
       "      <th>os</th>\n",
       "      <th>device</th>\n",
       "      <th>string</th>\n",
       "    </tr>\n",
       "  </thead>\n",
       "  <tbody>\n",
       "    <tr>\n",
       "      <td>0</td>\n",
       "      <td>{'family': 'Chrome', 'major': '59', 'minor': '...</td>\n",
       "      <td>{'family': 'Windows', 'major': '10', 'minor': ...</td>\n",
       "      <td>{'family': 'Other', 'brand': None, 'model': None}</td>\n",
       "      <td>Mozilla/5.0 (Windows NT 10.0; Win64; x64) Appl...</td>\n",
       "    </tr>\n",
       "    <tr>\n",
       "      <td>1</td>\n",
       "      <td>{'family': 'Chrome', 'major': '59', 'minor': '...</td>\n",
       "      <td>{'family': 'Windows', 'major': '10', 'minor': ...</td>\n",
       "      <td>{'family': 'Other', 'brand': None, 'model': None}</td>\n",
       "      <td>Mozilla/5.0 (Windows NT 10.0; Win64; x64) Appl...</td>\n",
       "    </tr>\n",
       "    <tr>\n",
       "      <td>2</td>\n",
       "      <td>{'family': 'Chrome', 'major': '59', 'minor': '...</td>\n",
       "      <td>{'family': 'Windows', 'major': '10', 'minor': ...</td>\n",
       "      <td>{'family': 'Other', 'brand': None, 'model': None}</td>\n",
       "      <td>Mozilla/5.0 (Windows NT 10.0; Win64; x64) Appl...</td>\n",
       "    </tr>\n",
       "    <tr>\n",
       "      <td>3</td>\n",
       "      <td>{'family': 'IE', 'major': '11', 'minor': '0', ...</td>\n",
       "      <td>{'family': 'Windows', 'major': '8.1', 'minor':...</td>\n",
       "      <td>{'family': 'Other', 'brand': None, 'model': None}</td>\n",
       "      <td>Mozilla/5.0 (Windows NT 6.3; WOW64; Trident/7....</td>\n",
       "    </tr>\n",
       "    <tr>\n",
       "      <td>4</td>\n",
       "      <td>{'family': 'Chrome', 'major': '59', 'minor': '...</td>\n",
       "      <td>{'family': 'Windows', 'major': '10', 'minor': ...</td>\n",
       "      <td>{'family': 'Other', 'brand': None, 'model': None}</td>\n",
       "      <td>Mozilla/5.0 (Windows NT 10.0; Win64; x64) Appl...</td>\n",
       "    </tr>\n",
       "  </tbody>\n",
       "</table>\n",
       "</div>"
      ],
      "text/plain": [
       "                                          user_agent  \\\n",
       "0  {'family': 'Chrome', 'major': '59', 'minor': '...   \n",
       "1  {'family': 'Chrome', 'major': '59', 'minor': '...   \n",
       "2  {'family': 'Chrome', 'major': '59', 'minor': '...   \n",
       "3  {'family': 'IE', 'major': '11', 'minor': '0', ...   \n",
       "4  {'family': 'Chrome', 'major': '59', 'minor': '...   \n",
       "\n",
       "                                                  os  \\\n",
       "0  {'family': 'Windows', 'major': '10', 'minor': ...   \n",
       "1  {'family': 'Windows', 'major': '10', 'minor': ...   \n",
       "2  {'family': 'Windows', 'major': '10', 'minor': ...   \n",
       "3  {'family': 'Windows', 'major': '8.1', 'minor':...   \n",
       "4  {'family': 'Windows', 'major': '10', 'minor': ...   \n",
       "\n",
       "                                              device  \\\n",
       "0  {'family': 'Other', 'brand': None, 'model': None}   \n",
       "1  {'family': 'Other', 'brand': None, 'model': None}   \n",
       "2  {'family': 'Other', 'brand': None, 'model': None}   \n",
       "3  {'family': 'Other', 'brand': None, 'model': None}   \n",
       "4  {'family': 'Other', 'brand': None, 'model': None}   \n",
       "\n",
       "                                              string  \n",
       "0  Mozilla/5.0 (Windows NT 10.0; Win64; x64) Appl...  \n",
       "1  Mozilla/5.0 (Windows NT 10.0; Win64; x64) Appl...  \n",
       "2  Mozilla/5.0 (Windows NT 10.0; Win64; x64) Appl...  \n",
       "3  Mozilla/5.0 (Windows NT 6.3; WOW64; Trident/7....  \n",
       "4  Mozilla/5.0 (Windows NT 10.0; Win64; x64) Appl...  "
      ]
     },
     "execution_count": 35,
     "metadata": {},
     "output_type": "execute_result"
    }
   ],
   "source": [
    "df3=[]\n",
    "for i in df_uastring:\n",
    "    df3.append(user_agent_parser.Parse(i))\n",
    "pd.DataFrame(df3)\n",
    "pd.DataFrame(df3).head()"
   ]
  },
  {
   "cell_type": "code",
   "execution_count": 36,
   "metadata": {},
   "outputs": [
    {
     "data": {
      "text/html": [
       "<div>\n",
       "<style scoped>\n",
       "    .dataframe tbody tr th:only-of-type {\n",
       "        vertical-align: middle;\n",
       "    }\n",
       "\n",
       "    .dataframe tbody tr th {\n",
       "        vertical-align: top;\n",
       "    }\n",
       "\n",
       "    .dataframe thead th {\n",
       "        text-align: right;\n",
       "    }\n",
       "</style>\n",
       "<table border=\"1\" class=\"dataframe\">\n",
       "  <thead>\n",
       "    <tr style=\"text-align: right;\">\n",
       "      <th></th>\n",
       "      <th>os</th>\n",
       "    </tr>\n",
       "  </thead>\n",
       "  <tbody>\n",
       "    <tr>\n",
       "      <td>{'family': 'Windows', 'major': '7', 'minor': None, 'patch': None, 'patch_minor': None}</td>\n",
       "      <td>153</td>\n",
       "    </tr>\n",
       "    <tr>\n",
       "      <td>{'family': 'Windows', 'major': '10', 'minor': None, 'patch': None, 'patch_minor': None}</td>\n",
       "      <td>141</td>\n",
       "    </tr>\n",
       "    <tr>\n",
       "      <td>{'family': 'Windows', 'major': '8.1', 'minor': None, 'patch': None, 'patch_minor': None}</td>\n",
       "      <td>24</td>\n",
       "    </tr>\n",
       "    <tr>\n",
       "      <td>{'family': 'Other', 'major': None, 'minor': None, 'patch': None, 'patch_minor': None}</td>\n",
       "      <td>9</td>\n",
       "    </tr>\n",
       "    <tr>\n",
       "      <td>{'family': 'Windows', 'major': 'XP', 'minor': None, 'patch': None, 'patch_minor': None}</td>\n",
       "      <td>9</td>\n",
       "    </tr>\n",
       "    <tr>\n",
       "      <td>{'family': 'Mac OS X', 'major': '10', 'minor': '12', 'patch': None, 'patch_minor': None}</td>\n",
       "      <td>8</td>\n",
       "    </tr>\n",
       "    <tr>\n",
       "      <td>{'family': 'Android', 'major': '6', 'minor': '0', 'patch': '1', 'patch_minor': None}</td>\n",
       "      <td>7</td>\n",
       "    </tr>\n",
       "    <tr>\n",
       "      <td>{'family': 'Android', 'major': '4', 'minor': '4', 'patch': '2', 'patch_minor': None}</td>\n",
       "      <td>7</td>\n",
       "    </tr>\n",
       "    <tr>\n",
       "      <td>{'family': 'Android', 'major': '7', 'minor': '0', 'patch': None, 'patch_minor': None}</td>\n",
       "      <td>7</td>\n",
       "    </tr>\n",
       "    <tr>\n",
       "      <td>{'family': 'Android', 'major': '6', 'minor': '0', 'patch': None, 'patch_minor': None}</td>\n",
       "      <td>4</td>\n",
       "    </tr>\n",
       "  </tbody>\n",
       "</table>\n",
       "</div>"
      ],
      "text/plain": [
       "                                                     os\n",
       "{'family': 'Windows', 'major': '7', 'minor': No...  153\n",
       "{'family': 'Windows', 'major': '10', 'minor': N...  141\n",
       "{'family': 'Windows', 'major': '8.1', 'minor': ...   24\n",
       "{'family': 'Other', 'major': None, 'minor': Non...    9\n",
       "{'family': 'Windows', 'major': 'XP', 'minor': N...    9\n",
       "{'family': 'Mac OS X', 'major': '10', 'minor': ...    8\n",
       "{'family': 'Android', 'major': '6', 'minor': '0...    7\n",
       "{'family': 'Android', 'major': '4', 'minor': '4...    7\n",
       "{'family': 'Android', 'major': '7', 'minor': '0...    7\n",
       "{'family': 'Android', 'major': '6', 'minor': '0...    4"
      ]
     },
     "execution_count": 36,
     "metadata": {},
     "output_type": "execute_result"
    }
   ],
   "source": [
    "data = pd.DataFrame(df3)\n",
    "columnsData = data.loc[ : , 'os' ]\n",
    "pd.DataFrame(columnsData.value_counts().head(10))"
   ]
  },
  {
   "cell_type": "code",
   "execution_count": 37,
   "metadata": {},
   "outputs": [
    {
     "data": {
      "text/html": [
       "<div>\n",
       "<style scoped>\n",
       "    .dataframe tbody tr th:only-of-type {\n",
       "        vertical-align: middle;\n",
       "    }\n",
       "\n",
       "    .dataframe tbody tr th {\n",
       "        vertical-align: top;\n",
       "    }\n",
       "\n",
       "    .dataframe thead th {\n",
       "        text-align: right;\n",
       "    }\n",
       "</style>\n",
       "<table border=\"1\" class=\"dataframe\">\n",
       "  <thead>\n",
       "    <tr style=\"text-align: right;\">\n",
       "      <th></th>\n",
       "      <th>user_agent</th>\n",
       "    </tr>\n",
       "  </thead>\n",
       "  <tbody>\n",
       "    <tr>\n",
       "      <td>{'family': 'Chrome', 'major': '59', 'minor': '0', 'patch': '3071'}</td>\n",
       "      <td>145</td>\n",
       "    </tr>\n",
       "    <tr>\n",
       "      <td>{'family': 'IE', 'major': '11', 'minor': '0', 'patch': None}</td>\n",
       "      <td>73</td>\n",
       "    </tr>\n",
       "    <tr>\n",
       "      <td>{'family': 'Firefox', 'major': '54', 'minor': '0', 'patch': None}</td>\n",
       "      <td>29</td>\n",
       "    </tr>\n",
       "    <tr>\n",
       "      <td>{'family': 'Chrome', 'major': '45', 'minor': '0', 'patch': '2454'}</td>\n",
       "      <td>26</td>\n",
       "    </tr>\n",
       "    <tr>\n",
       "      <td>{'family': 'Chrome', 'major': '50', 'minor': '0', 'patch': '2661'}</td>\n",
       "      <td>17</td>\n",
       "    </tr>\n",
       "    <tr>\n",
       "      <td>{'family': 'Chrome Mobile', 'major': '59', 'minor': '0', 'patch': '3071'}</td>\n",
       "      <td>11</td>\n",
       "    </tr>\n",
       "    <tr>\n",
       "      <td>{'family': 'Chrome', 'major': '49', 'minor': '0', 'patch': '2623'}</td>\n",
       "      <td>10</td>\n",
       "    </tr>\n",
       "    <tr>\n",
       "      <td>{'family': 'AdsBot-Google', 'major': None, 'minor': None, 'patch': None}</td>\n",
       "      <td>9</td>\n",
       "    </tr>\n",
       "    <tr>\n",
       "      <td>{'family': 'Chrome', 'major': '58', 'minor': '0', 'patch': '3029'}</td>\n",
       "      <td>7</td>\n",
       "    </tr>\n",
       "    <tr>\n",
       "      <td>{'family': 'Sogou Explorer', 'major': '1', 'minor': '0', 'patch': None}</td>\n",
       "      <td>6</td>\n",
       "    </tr>\n",
       "  </tbody>\n",
       "</table>\n",
       "</div>"
      ],
      "text/plain": [
       "                                                    user_agent\n",
       "{'family': 'Chrome', 'major': '59', 'minor': '0...         145\n",
       "{'family': 'IE', 'major': '11', 'minor': '0', '...          73\n",
       "{'family': 'Firefox', 'major': '54', 'minor': '...          29\n",
       "{'family': 'Chrome', 'major': '45', 'minor': '0...          26\n",
       "{'family': 'Chrome', 'major': '50', 'minor': '0...          17\n",
       "{'family': 'Chrome Mobile', 'major': '59', 'min...          11\n",
       "{'family': 'Chrome', 'major': '49', 'minor': '0...          10\n",
       "{'family': 'AdsBot-Google', 'major': None, 'min...           9\n",
       "{'family': 'Chrome', 'major': '58', 'minor': '0...           7\n",
       "{'family': 'Sogou Explorer', 'major': '1', 'min...           6"
      ]
     },
     "execution_count": 37,
     "metadata": {},
     "output_type": "execute_result"
    }
   ],
   "source": [
    "data1 = pd.DataFrame(df3)\n",
    "user_agent1 = data1.loc[ : , 'user_agent' ]\n",
    "pd.DataFrame(user_agent1.value_counts().head(10))"
   ]
  },
  {
   "cell_type": "code",
   "execution_count": 38,
   "metadata": {},
   "outputs": [
    {
     "data": {
      "text/html": [
       "<div>\n",
       "<style scoped>\n",
       "    .dataframe tbody tr th:only-of-type {\n",
       "        vertical-align: middle;\n",
       "    }\n",
       "\n",
       "    .dataframe tbody tr th {\n",
       "        vertical-align: top;\n",
       "    }\n",
       "\n",
       "    .dataframe thead th {\n",
       "        text-align: right;\n",
       "    }\n",
       "</style>\n",
       "<table border=\"1\" class=\"dataframe\">\n",
       "  <thead>\n",
       "    <tr style=\"text-align: right;\">\n",
       "      <th></th>\n",
       "      <th>device</th>\n",
       "    </tr>\n",
       "  </thead>\n",
       "  <tbody>\n",
       "    <tr>\n",
       "      <td>{'family': 'Other', 'brand': None, 'model': None}</td>\n",
       "      <td>353</td>\n",
       "    </tr>\n",
       "    <tr>\n",
       "      <td>{'family': 'Spider', 'brand': 'Spider', 'model': 'Desktop'}</td>\n",
       "      <td>9</td>\n",
       "    </tr>\n",
       "    <tr>\n",
       "      <td>{'family': 'Samsung SM-G935F', 'brand': 'Samsung', 'model': 'SM-G935F'}</td>\n",
       "      <td>3</td>\n",
       "    </tr>\n",
       "    <tr>\n",
       "      <td>{'family': 'H60-L01', 'brand': 'Generic_Android', 'model': 'H60-L01'}</td>\n",
       "      <td>2</td>\n",
       "    </tr>\n",
       "    <tr>\n",
       "      <td>{'family': 'HUAWEI NXT-TL00', 'brand': 'Huawei', 'model': 'NXT-TL00'}</td>\n",
       "      <td>1</td>\n",
       "    </tr>\n",
       "    <tr>\n",
       "      <td>{'family': 'Lenovo P1a42', 'brand': 'Lenovo', 'model': 'P1a42'}</td>\n",
       "      <td>1</td>\n",
       "    </tr>\n",
       "    <tr>\n",
       "      <td>{'family': 'Samsung SM-G900FD', 'brand': 'Samsung', 'model': 'SM-G900FD'}</td>\n",
       "      <td>1</td>\n",
       "    </tr>\n",
       "    <tr>\n",
       "      <td>{'family': 'Samsung SM-G720N0', 'brand': 'Samsung', 'model': 'SM-G720N0'}</td>\n",
       "      <td>1</td>\n",
       "    </tr>\n",
       "    <tr>\n",
       "      <td>{'family': 'MHA-L29', 'brand': 'Huawei', 'model': 'MHA-L29'}</td>\n",
       "      <td>1</td>\n",
       "    </tr>\n",
       "    <tr>\n",
       "      <td>{'family': 'Samsung SM-A500K', 'brand': 'Samsung', 'model': 'SM-A500K'}</td>\n",
       "      <td>1</td>\n",
       "    </tr>\n",
       "  </tbody>\n",
       "</table>\n",
       "</div>"
      ],
      "text/plain": [
       "                                                    device\n",
       "{'family': 'Other', 'brand': None, 'model': None}      353\n",
       "{'family': 'Spider', 'brand': 'Spider', 'model'...       9\n",
       "{'family': 'Samsung SM-G935F', 'brand': 'Samsun...       3\n",
       "{'family': 'H60-L01', 'brand': 'Generic_Android...       2\n",
       "{'family': 'HUAWEI NXT-TL00', 'brand': 'Huawei'...       1\n",
       "{'family': 'Lenovo P1a42', 'brand': 'Lenovo', '...       1\n",
       "{'family': 'Samsung SM-G900FD', 'brand': 'Samsu...       1\n",
       "{'family': 'Samsung SM-G720N0', 'brand': 'Samsu...       1\n",
       "{'family': 'MHA-L29', 'brand': 'Huawei', 'model...       1\n",
       "{'family': 'Samsung SM-A500K', 'brand': 'Samsun...       1"
      ]
     },
     "execution_count": 38,
     "metadata": {},
     "output_type": "execute_result"
    }
   ],
   "source": [
    "data2 = pd.DataFrame(df3)\n",
    "device1 = data2.loc[ : , 'device' ]\n",
    "pd.DataFrame(device1.value_counts().head(10))"
   ]
  },
  {
   "cell_type": "code",
   "execution_count": 39,
   "metadata": {
    "scrolled": true
   },
   "outputs": [],
   "source": [
    "##Location query Parsing\n",
    "first = df[\"location query\"]"
   ]
  },
  {
   "cell_type": "code",
   "execution_count": 40,
   "metadata": {},
   "outputs": [
    {
     "data": {
      "text/plain": [
       "{'keyword': ['language editing'],\n",
       " 'matchtype': ['e'],\n",
       " 'device': ['c'],\n",
       " 'creative': ['201469956195'],\n",
       " 'gclid': ['CITn-cOh_NQCFdOHaAodMO8EdA']}"
      ]
     },
     "execution_count": 40,
     "metadata": {},
     "output_type": "execute_result"
    }
   ],
   "source": [
    "import urllib.parse\n",
    "queryStr = 'keyword=language%20editing&matchtype=e&device=c&creative=201469956195&gclid=CITn-cOh_NQCFdOHaAodMO8EdA'\n",
    "urllib.parse.parse_qs(queryStr)"
   ]
  },
  {
   "cell_type": "code",
   "execution_count": 41,
   "metadata": {},
   "outputs": [
    {
     "name": "stdout",
     "output_type": "stream",
     "text": [
      "[{'keyword': ['edit paper'], 'matchtype': ['e'], 'device': ['c'], 'creative': ['201469956189'], 'gclid': ['CMOHip-C_NQCFVJLDQod4RwGUA']}, {'keyword': ['professional editing services'], 'matchtype': ['e'], 'device': ['c'], 'creative': ['201469956228'], 'gclid': ['CjwKEAjwqIfLBRCk6vH_rJq7yD0SJACG18frd6-0DE5ER7QnSxLUEXza0DteAJyCULJw1NLFBdXExxoC7Bfw_wcB']}, {'keyword': ['academic proofreading'], 'matchtype': ['p'], 'device': ['c'], 'creative': ['204838723656'], 'gclid': ['CIXsrsyE_NQCFROHswodehQHkA']}, {'keyword': ['language editing service'], 'matchtype': ['p'], 'device': ['c'], 'creative': ['201465365924'], 'gclid': ['CjwKCAjwqIfLBRAkEiwAhtfH6_uus09gDdK39ITo102x-R_fZJahBcrgX-CaDOeSC5QejkZ1zwUFcxoCtOwQAvD_BwE']}, {'keyword': ['language editing'], 'matchtype': ['p'], 'device': ['c'], 'creative': ['201456839030'], 'gclid': ['CjwKEAjwqIfLBRCk6vH_rJq7yD0SJACG18fraU0P5DXYVqOS9NqB-ast_axDF5vvlx8xSZi4pr-R6BoCxXPw_wcB']}, {'keyword': ['english editing'], 'matchtype': ['e'], 'device': ['c'], 'creative': ['201469955973'], 'gclid': ['CM-f6LWV_NQCFUWIjwodCbcJkQ']}, {'keyword': ['language editing'], 'matchtype': ['e'], 'device': ['c'], 'creative': ['201469956195'], 'gclid': ['CITn-cOh_NQCFdOHaAodMO8EdA']}, {'keyword': ['proofread service'], 'matchtype': ['e'], 'device': ['c'], 'creative': ['201469955712'], 'gclid': ['CjwKEAjwqIfLBRCk6vH_rJq7yD0SJACG18friNMnBYksRnGUSZFGzJ0OfAA7a5YHWzYXJ0oQ2gp-qhoCxzLw_wcB']}, {'keyword': ['+proofreading +thesis'], 'matchtype': ['b'], 'device': ['c'], 'creative': ['201463927649'], 'gclid': ['CjwKEAjwqIfLBRCk6vH_rJq7yD0SJACG18froO18rlKovn1svXKT7NRmcQlEh0f_fPm_mL7lvq_H9xoCA-Lw_wcB']}, {'keyword': ['scientific editing'], 'matchtype': ['e'], 'device': ['c'], 'creative': ['201469956360'], 'gclid': ['CjwKEAjwqIfLBRCk6vH_rJq7yD0SJACG18fr09j84kjZA3wS7jFpAYPyXD1bMdGGvJQhhFgs77bGSRoCndfw_wcB']}, {'utm_source': ['social'], 'utm_campaign': ['PMFB'], 'utm_medium': ['facebook'], 'utm_term': ['ogofb']}, {'keyword': ['+scientific +editing'], 'matchtype': ['b'], 'device': ['c'], 'creative': ['201469955751'], 'gclid': ['COnY8My-_NQCFYIV0wod5WkHSA']}, {'keyword': ['english editing'], 'matchtype': ['p'], 'device': ['m'], 'creative': ['201498785419'], 'gclid': ['CjwKEAjwqIfLBRCk6vH_rJq7yD0SJACG18fr18l6-1AYGXqbPcRDj6xA_eyz9SvQr890KjbWhIoZFxoCFYDw_wcB']}, {'keyword': ['professional%20editing%20services'], 'matchtype': ['e'], 'device': ['c'], 'creative': ['201469956228'], 'gclid': ['CjwKEAjwqIfLBRCk6vH_rJq7yD0SJACG18fr1CehNMVhbgBTMKUTWweFSw4f8jZ5-OaVOIfwyEIdTBoCh0vw_wcB']}, {'keyword': ['editing service'], 'matchtype': ['p'], 'device': ['c'], 'creative': ['201460662900'], 'gclid': ['CjwKEAjwqIfLBRCk6vH_rJq7yD0SJACG18frkE_a9_53KT7qgWv8VSKEB2whrYwenUjRWbhK9ox7HRoCbDPw_wcB']}, {'keyword': ['english editing'], 'matchtype': ['e'], 'device': ['m'], 'creative': ['201469955973'], 'gclid': ['CjwKCAjwqIfLBRAkEiwAhtfH603Ta8prPqmFFCDH37gNU0M2S_t7H6LlOQK5UJ1OfXEbNsYHiWVHZxoC4xkQAvD_BwE']}, {'utm_source': ['social'], 'utm_campaign': ['PMFB'], 'utm_medium': ['facebook'], 'utm_term': ['ogofb']}, {'keyword': ['+english +editing'], 'matchtype': ['b'], 'device': ['c'], 'creative': ['201469955748'], 'gclid': ['CjwKEAjwqIfLBRCk6vH_rJq7yD0SJACG18frK2XtBTfDk8sodXGgkTQ0WJPbxFVDYplpW-daa9lACxoCliXw_wcB']}, {'keyword': ['english editing service'], 'matchtype': ['e'], 'device': ['c'], 'creative': ['201465365885'], 'gclid': ['CKORweHj_NQCFUI6GwodBlUGbA']}, {'keyword': ['editing service'], 'matchtype': ['p'], 'device': ['c'], 'creative': ['201498203200'], 'gclid': ['CPa_hJ_k_NQCFQOUfgodrHENYg']}, {'keyword': ['+proofreading +professional'], 'matchtype': ['b'], 'device': ['c'], 'creative': ['201463927643'], 'gclid': ['EAIaIQobChMIqP6E6fD81AIVD0R-Ch0REwJQEAAYASAAEgIF4PD_BwE']}, {'keyword': ['dissertation editing'], 'matchtype': ['p'], 'device': ['c'], 'creative': ['201469956234'], 'gclid': ['CjwKCAjwqIfLBRAkEiwAhtfH68idazcPxjWCrp1uwFMk-DF5ha7pTjDXCsvRShOypSVEFH_fP8SnpBoCldYQAvD_BwE']}, {'keyword': ['editing services'], 'matchtype': ['e'], 'device': ['c'], 'creative': ['201469955958'], 'gclid': ['CjwKEAjwqIfLBRCk6vH_rJq7yD0SJACG18frbjtiADHgl3rpFuhVvv4h-3cGG-GLTwARQVdNqFUGKBoCCMzw_wcB']}, {}, {'keyword': ['+proofreading +thesis'], 'matchtype': ['b'], 'device': ['c'], 'creative': ['201463927649'], 'gclid': ['EAIaIQobChMImsWyypf91AIVj4aPCh3zaQZ3EAAYASAAEgJQ5fD_BwE']}, {'keyword': ['+acmeservices'], 'matchtype': ['b'], 'device': ['c'], 'creative': ['201469956198'], 'gclid': ['CjwKEAjwqIfLBRCk6vH_rJq7yD0SJACG18fr8fomIQDk3ovXA38KKIvBswLGYHj0SThxqfEDXJr73xoCxATw_wcB']}, {'keyword': ['proofread service'], 'matchtype': ['e'], 'device': ['c'], 'creative': ['201469955712'], 'gclid': ['CjwKCAjwqIfLBRAkEiwAhtfH640sj2JdjVbFg4LIq5gSivlmFAVm8MY45I5OFdhMl8KN7aEeoylAgBoCPF0QAvD_BwE']}, {'keyword': ['+english +editing'], 'matchtype': ['b'], 'device': ['c'], 'creative': ['201469955748'], 'gclid': ['CMfj9Iyx_dQCFQYPaQodT5kPhw']}, {'keyword': ['editing service'], 'matchtype': ['p'], 'device': ['c'], 'creative': ['201460662900'], 'gclid': ['CJue_avC_dQCFcIJkQodYQQCUw']}, {'keyword': ['paper editing'], 'matchtype': ['p'], 'device': ['c'], 'creative': ['201457269503'], 'gclid': ['CIDDyMzW_dQCFc0HKgodAUUEWA']}, {'keyword': ['english editing'], 'matchtype': ['p'], 'device': ['c'], 'creative': ['201498785419'], 'gclid': ['CMrK9pDk_dQCFY4YjwodAvEEzw']}, {'keyword': ['acmeservices'], 'matchtype': ['e'], 'device': ['c'], 'creative': ['201469956162'], 'gclid': ['CjwKCAjwqIfLBRAkEiwAhtfH64JlDsCI28cW4jugD2l2H7JRpYAjflAb5Q51tVqWz0svbJOfeEmFmhoCyHoQAvD_BwE']}, {}, {'keyword': ['proofreading service'], 'matchtype': ['p'], 'device': ['c'], 'creative': ['201498414136'], 'gclid': ['CjwKEAjwqIfLBRCk6vH_rJq7yD0SJACG18frCJj-lCDoU84uCjWfg2TeOxpA6Fknv8TLEiaDm2EiJRoCgK7w_wcB']}, {'keyword': ['thesis proofreading'], 'matchtype': ['e'], 'device': ['c'], 'creative': ['201465365735'], 'gclid': ['CjwKCAjwqIfLBRAkEiwAhtfH6-AhQ_Kmesz1Ac7Bxsxmgq2dAePqWxCOs7GnJJ390V5O1TTKnbqpUBoCBOwQAvD_BwE']}, {'keyword': ['acmeservices'], 'matchtype': ['e'], 'device': ['c'], 'creative': ['201469956162'], 'gclid': ['CjwKEAjwqIfLBRCk6vH_rJq7yD0SJACG18fr2btXoEwKeUPnqO79grVs3jh5hfOtWPzEiCPhkWFb1hoCIEvw_wcB']}, {'keyword': ['english editing'], 'matchtype': ['p'], 'device': ['c'], 'creative': ['201498785419'], 'gclid': ['CjwKEAjwqIfLBRCk6vH_rJq7yD0SJACG18fr0Rf79K0YZO6GEiinCvDXP4mLzIZrBfTOYGHfbfkLwBoCdS3w_wcB']}, {'keyword': ['english editing'], 'matchtype': ['p'], 'device': ['c'], 'creative': ['201498785419'], 'gclid': ['CjwKEAjwqIfLBRCk6vH_rJq7yD0SJACG18fr0Rf79K0YZO6GEiinCvDXP4mLzIZrBfTOYGHfbfkLwBoCdS3w_wcB']}, {'keyword': ['editing service'], 'matchtype': ['p'], 'device': ['c'], 'creative': ['201498203200'], 'gclid': ['CjwKCAjwqIfLBRAkEiwAhtfH6_E_up7eymuu2vNDO0rBS7nK4aU6hhcEVmbD_jbFc7v2nfPPj0qJKhoC1NEQAvD_BwE']}, {'keyword': ['proofreading service'], 'matchtype': ['p'], 'device': ['m'], 'creative': ['201498414136'], 'gclid': ['CLyNxLyQ_tQCFQEA0wodJKgA7g']}, {}, {}, {'keyword': ['acmeservices'], 'matchtype': ['e'], 'device': ['c'], 'creative': ['201469956162'], 'gclid': ['EAIaIQobChMIrcLykZL-1AIVlouPCh3f4wZsEAAYASAAEgKKFPD_BwE']}, {'keyword': ['editing service'], 'matchtype': ['p'], 'device': ['c'], 'creative': ['201498203200'], 'gclid': ['CND_qJ2U_tQCFYSQjwodfEwG5w']}, {'keyword': ['editing services'], 'matchtype': ['e'], 'device': ['c'], 'creative': ['201465365723'], 'gclid': ['EAIaIQobChMIvITq76D-1AIVygMqCh3gJAAHEAAYAiAAEgLDWPD_BwE']}, {'utm_expid': ['63552676-21.TfOfpAKiRNO0-M_T0cZ8wg.0'], 'utm_referrer': ['https://mail.qq.com/']}, {'keyword': ['+acmeservices'], 'matchtype': ['b'], 'device': ['c'], 'creative': ['201469956198'], 'gclid': ['Cj0KEQjwy4zLBRCOg6-4h6vs3cUBEiQAN-yzfn1WqRcGNUB2qUC7NMeXhv92K39cmz0faSmfCordAskaAjlo8P8HAQ']}, {'keyword': ['research paper editing'], 'matchtype': ['e'], 'device': ['c'], 'creative': ['201469956135'], 'gclid': ['CIL8ydKo_tQCFZKJjwodjwILMg']}, {'keyword': ['academic proofreading'], 'matchtype': ['p'], 'device': ['c'], 'creative': ['204838723656'], 'gclid': ['CNnMisqo_tQCFY0V0wodWBoPQQ']}, {'keyword': ['language editing service'], 'matchtype': ['p'], 'device': ['c'], 'creative': ['201465365924'], 'gclid': ['Cj0KCQjwy4zLBRCOARIsADfss37L8c0U52LPA3jmllKbEQIQ8ETNuXPCUP3WP71xbXqKU6vJn4ujH3gaAp4AEALw_wcB']}, {'keyword': ['paper editing'], 'matchtype': ['p'], 'device': ['c'], 'creative': ['201457269503'], 'gclid': ['EAIaIQobChMImN7tqar-1AIVFIiPCh00FQNCEAAYASAAEgL2tvD_BwE']}, {'keyword': ['+editing +service'], 'matchtype': ['b'], 'device': ['c'], 'creative': ['201469956207'], 'gclid': ['Cj0KEQjwy4zLBRCOg6-4h6vs3cUBEiQAN-yzfhRHMy7DvVZcVMOQy2Yb5fjCybsWwjzkfrRbpkgL5y8aArK58P8HAQ']}, {'device': ['c'], 'creative': ['205825742108']}, {'keyword': ['acmeservices'], 'matchtype': ['e'], 'device': ['c'], 'creative': ['201469956162'], 'gclid': ['CKSB18Cs_tQCFVxJGQod2tABXA']}, {'keyword': ['thesis proofreading services'], 'matchtype': ['p'], 'device': ['c'], 'creative': ['201469956126'], 'gclid': ['Cj0KCQjwy4zLBRCOARIsADfss37pg4Qf7I3YRfqF8x1NeAWrPr5j2apGu5HpdIsTx1QPfL6QaKjpOaYaApzgEALw_wcB']}, {'device': ['m'], 'creative': ['205868693683']}, {'keyword': ['+editing +service'], 'matchtype': ['b'], 'device': ['c'], 'creative': ['201469956207'], 'gclid': ['Cj0KEQjwy4zLBRCOg6-4h6vs3cUBEiQAN-yzfhRHMy7DvVZcVMOQy2Yb5fjCybsWwjzkfrRbpkgL5y8aArK58P8HAQ']}, {'keyword': ['language editing service'], 'matchtype': ['e'], 'device': ['c'], 'creative': ['201465365699'], 'gclid': ['EAIaIQobChMIrfO70rf-1AIVKijTCh00vwp-EAAYASAAEgL6ZvD_BwE']}, {'device': ['c'], 'creative': ['205836883169']}, {'device': ['c'], 'creative': ['205823999007']}, {'device': ['c'], 'creative': ['205875824095']}, {'device': ['c'], 'creative': ['205825578471']}, {'device': ['c'], 'creative': ['205825578471']}, {'keyword': ['korean to english translation'], 'matchtype': ['p'], 'device': ['c'], 'creative': ['205836883169'], 'gclid': ['Cj0KCQjwy4zLBRCOARIsADfss35GCjyonswiOJXqXbommEeajXg6T1k4C6BP4hvRF4ITvhgaSa_E_LIaAnP9EALw_wcB']}, {'keyword': ['english editing'], 'matchtype': ['e'], 'device': ['c'], 'creative': ['201469955973'], 'gclid': ['CLbJjMnC_tQCFUuFjwod-RkJxg']}, {'keyword': ['research paper editing'], 'matchtype': ['e'], 'device': ['c'], 'creative': ['201469956135'], 'gclid': ['CKGqtf7H_tQCFQqBvQod9d4JKg']}, {'keyword': ['acmeservices'], 'matchtype': ['e'], 'device': ['c'], 'creative': ['201469956162'], 'gclid': ['Cj0KEQjwy4zLBRCOg6-4h6vs3cUBEiQAN-yzfnKoxpOqnQevoRQ9K6qDZELTqPJcwmNoZ5VOglSVhhsaAsyA8P8HAQ']}, {'keyword': ['acmeservices'], 'matchtype': ['e'], 'device': ['c'], 'creative': ['201469956162'], 'gclid': ['Cj0KEQjwy4zLBRCOg6-4h6vs3cUBEiQAN-yzfnKoxpOqnQevoRQ9K6qDZELTqPJcwmNoZ5VOglSVhhsaAsyA8P8HAQ']}, {'keyword': ['+acmeservices'], 'matchtype': ['b'], 'device': ['c'], 'creative': ['201469956198'], 'gclid': ['CJ-RhsTJ_tQCFeqc7Qodq4EKTg']}, {'keyword': ['japanese to english translation'], 'matchtype': ['p'], 'device': ['c'], 'creative': ['205823999007'], 'gclid': ['CN2Gn-LJ_tQCFQsQvQodT2sMKg']}, {'keyword': ['japanese to english translation'], 'matchtype': ['p'], 'device': ['m'], 'creative': ['205823999007'], 'gclid': ['Cj0KEQjwy4zLBRCOg6-4h6vs3cUBEiQAN-yzfsL0uEuWHQvcMxQyTn9HK9K54UEMx7xwdB5XqHki8SMaAi948P8HAQ']}, {'keyword': ['chinese to english translation'], 'matchtype': ['p'], 'device': ['c'], 'creative': ['205875824095'], 'gclid': ['EAIaIQobChMI_oXJ9sn-1AIViWG9Ch041A3mEAAYASAAEgJMhfD_BwE']}, {'keyword': ['korean to english translation'], 'matchtype': ['p'], 'device': ['c'], 'creative': ['205836883169'], 'gclid': ['CPTqmcTK_tQCFZcrvQodEpgGfw']}, {'keyword': ['korean to english translation'], 'matchtype': ['p'], 'device': ['c'], 'creative': ['205836883169'], 'gclid': ['Cj0KCQjwy4zLBRCOARIsADfss37mswoPHBHfi5ADCCQ-3riWZH1YW4fy0NfJXntGhYxFH_JpG3XeJ18aAh4gEALw_wcB']}, {'keyword': ['+editing +service'], 'matchtype': ['b'], 'device': ['c'], 'creative': ['201469956207'], 'gclid': ['EAIaIQobChMIrf3L48v-1AIVSIePCh2ybg2kEAAYASAAEgLidvD_BwE']}, {'keyword': ['+journal +submission +manuscript'], 'matchtype': ['b'], 'device': ['c'], 'creative': ['174323157277'], 'gclid': ['Cj0KEQjwy4zLBRCOg6-4h6vs3cUBEiQAN-yzfn2l1k6EIfCq3jYkw3351AWsYW8ZnqJC6iHsjK8o1zcaAioD8P8HAQ']}, {'keyword': ['chinese to english translation'], 'matchtype': ['p'], 'device': ['c'], 'creative': ['205875824095'], 'gclid': ['EAIaIQobChMI9JyurM3-1AIViL3tCh2mGgz_EAAYASAAEgL4D_D_BwE']}, {'keyword': ['editing service'], 'matchtype': ['p'], 'device': ['c'], 'creative': ['205825742108'], 'gclid': ['Cj0KEQjwy4zLBRCOg6-4h6vs3cUBEiQAN-yzfj8QiIHQ1sjTfXK4qEyVmZ_uAOjeNGq62DR15pCygpQaArvE8P8HAQ']}, {'keyword': ['arabic%20to%20english%20translation'], 'matchtype': ['p'], 'device': ['m'], 'creative': ['205876300984'], 'gclid': ['Cj0KEQjwy4zLBRCOg6-4h6vs3cUBEiQAN-yzfgy7TssCDCpGZsHdrKXxkDHlC0YVYMXkGK5MJVTZbAMaAqrg8P8HAQ']}, {'keyword': ['chinese to english translation'], 'matchtype': ['p'], 'device': ['c'], 'creative': ['205837121480'], 'gclid': ['CIvGhsrR_tQCFcS87Qod63UGSg']}, {'keyword': ['chinese to english translation'], 'matchtype': ['p'], 'device': ['c'], 'creative': ['205837121480'], 'gclid': ['CPyCt5rU_tQCFeKd7QodO6YKiQ']}, {'utm_source': ['hs_automation'], 'utm_medium': ['email'], 'utm_content': ['42481324'], '_hsenc': ['p2ANqtz-_CmDRLpbtyBZVkg98cCN4As-QxQj-ofVsq2G-3Dca4BZ7t50XOVsra6gcxZkkbf-knMprEq-lbBJ5D4EfOS25HPIPtrA'], '_hsmi': ['42481324']}, {'keyword': ['chinese to english translation'], 'matchtype': ['p'], 'device': ['m'], 'creative': ['205875824095'], 'gclid': ['Cj0KEQjwy4zLBRCOg6-4h6vs3cUBEiQAN-yzfmd2elR0sQZhHs3qUulEvBu4JOT_uBC_mti-Itej7-0aAtAJ8P8HAQ']}, {'keyword': ['korean to english translation'], 'matchtype': ['p'], 'device': ['m'], 'creative': ['205836883169'], 'gclid': ['Cj0KEQjwy4zLBRCOg6-4h6vs3cUBEiQAN-yzfgQN1k_9mvtH4O9YZEOSiiq9-SqNf2rJNngYnHVgMGgaAhT58P8HAQ']}, {'keyword': ['korean to english translation'], 'matchtype': ['p'], 'device': ['m'], 'creative': ['205836883169'], 'gclid': ['Cj0KEQjwy4zLBRCOg6-4h6vs3cUBEiQAN-yzfqg5PCi68Hk03fyPSXDxwycl_ucJcPqsNA_8jtTmVJ8aAnbp8P8HAQ']}, {'keyword': ['editing service'], 'matchtype': ['p'], 'device': ['c'], 'creative': ['201460662900'], 'gclid': ['CMj6horc_tQCFRQTGwodSFEOZw']}, {'keyword': ['japanese to english translation'], 'matchtype': ['p'], 'device': ['c'], 'creative': ['205823999007'], 'gclid': ['CKWH1tfc_tQCFcUZjwodF2EBUg']}, {'keyword': ['language editing service'], 'matchtype': ['e'], 'device': ['c'], 'creative': ['201469955928'], 'gclid': ['Cj0KCQjwy4zLBRCOARIsADfss37nlifb64GsaWDJzM2d7jieA7vAWYE0LdxU3xiHiGgZnimbKZSDozYaAncWEALw_wcB']}, {'keyword': ['japanese to english translation'], 'matchtype': ['p'], 'device': ['c'], 'creative': ['205823999007'], 'gclid': ['Cj0KEQjwy4zLBRCOg6-4h6vs3cUBEiQAN-yzfrCs-rjDJC7np-ZxdD_5DoPj59I4J6PnEiG6h-BdoUgaAmYO8P8HAQ']}, {'keyword': ['editing service'], 'matchtype': ['p'], 'device': ['c'], 'creative': ['205825742108'], 'gclid': ['Cj0KEQjwy4zLBRCOg6-4h6vs3cUBEiQAN-yzfqiXE55_MHLH_9gPP0J9EpQP4QijKbegery0iUNnl58aAnam8P8HAQ']}, {'keyword': ['arabic%20to%20english%20translation'], 'matchtype': ['p'], 'device': ['m'], 'creative': ['205876300984'], 'gclid': ['Cj0KEQjwy4zLBRCOg6-4h6vs3cUBEiQAN-yzfhnBCX9CCP6smy1nqIQTGKWyZCi7ekqLxH4McBqQnAUaAn3Q8P8HAQ']}, {'keyword': ['korean to english translation'], 'matchtype': ['p'], 'device': ['m'], 'creative': ['205836883169'], 'gclid': ['Cj0KEQjwy4zLBRCOg6-4h6vs3cUBEiQAN-yzfsGIvG-V1yGXaHT6_9pejMM7HhEExKK_boY9xdPcWIoaAlfm8P8HAQ']}, {'keyword': ['arabic%20to%20english%20translation'], 'matchtype': ['p'], 'device': ['m'], 'creative': ['205876300984'], 'gclid': ['Cj0KEQjwy4zLBRCOg6-4h6vs3cUBEiQAN-yzfkLwOsHsXL6huEWRdHdrXW3X09WhHyt_sAemSakro_8aAtbW8P8HAQ']}, {'keyword': ['editing service'], 'matchtype': ['p'], 'device': ['c'], 'creative': ['201460662900'], 'gclid': ['Cj0KEQjwy4zLBRCOg6-4h6vs3cUBEiQAN-yzfiEoEnT2KYQTZCreHQQAM7a6aMfGNHIWKdf_AHIdjIMaAn3X8P8HAQ']}, {'keyword': ['arabic%20to%20english%20translation'], 'matchtype': ['p'], 'device': ['m'], 'creative': ['205876300984'], 'gclid': ['Cj0KEQjwy4zLBRCOg6-4h6vs3cUBEiQAN-yzfsAMxONG0ckkSGitNNXt2Wh50aJZ0IZ-nepcViDGw68aAo4F8P8HAQ']}, {'keyword': ['chinese to english translation'], 'matchtype': ['p'], 'device': ['c'], 'creative': ['205875824095'], 'gclid': ['Cj0KEQjwy4zLBRCOg6-4h6vs3cUBEiQAN-yzfrWbE8e_mmphkWxH10SCbdC8J-cOBFmDgG0yJC9HziEaAqQn8P8HAQ']}, {'keyword': ['editing services'], 'matchtype': ['e'], 'device': ['c'], 'creative': ['201469955958'], 'gclid': ['CLu3y9bp_tQCFTYz0wodwCEB1Q']}, {'keyword': ['arabic%20to%20english%20translation'], 'matchtype': ['p'], 'device': ['m'], 'creative': ['205876300984'], 'gclid': ['Cj0KEQjwy4zLBRCOg6-4h6vs3cUBEiQAN-yzfmkFjyGkohzkL1AU4VrDWfMBuz1xRD9SFqFC0KxmLGAaAjXM8P8HAQ']}, {'keyword': ['japanese to english translation'], 'matchtype': ['p'], 'device': ['m'], 'creative': ['205823999007'], 'gclid': ['Cj0KEQjwy4zLBRCOg6-4h6vs3cUBEiQAN-yzfgSlgORkk4ffl5xlca0BxWKBTNUJr5CdVpHldrFfVtkaAuRl8P8HAQ']}, {'keyword': ['acmeservices'], 'matchtype': ['e'], 'device': ['c'], 'creative': ['201469956162'], 'gclid': ['CMrku77t_tQCFe4V0wodw_wOGA']}, {'utm_source': ['360'], 'utm_medium': ['ppc'], 'utm_term': ['runse'], 'utm_content': ['runseci'], 'utm_campaign': ['runse-xing']}, {'utm_source': ['360'], 'utm_medium': ['ppc'], 'utm_term': ['pingpai'], 'utm_content': ['pingpaici'], 'utm_campaign': ['pingpaici-xing']}, {'from': ['timeline']}, {'': ['Publication-new', 'Journal submission', 'SCi 投稿'], 'e_creative': ['1259789807'], 'e_keywordid': ['2730404736']}, {'': ['Publication-new', 'Journal submission', '如何投稿sci'], 'e_creative': ['1259789807'], 'e_keywordid': ['2730404694']}, {'utm_source': ['360'], 'utm_medium': ['ppc'], 'utm_term': ['pingpai'], 'utm_content': ['pingpaici'], 'utm_campaign': ['pingpaici-xing']}, {'': ['Publication-new', 'Journal submission', 'sci如何投稿'], 'e_creative': ['1259789807'], 'e_keywordid': ['3245864057']}, {'': ['Level 2', 'Level 2-Translation', '论文英文翻译'], 'e_creative': ['2158614963'], 'e_keywordid': ['6328421755']}, {'': ['SCI Paper-new', 'SCI paper touching up', 'sci 润色'], 'e_creative': ['422862382'], 'e_keywordid': ['2929236097']}, {'access-denied-content': ['metered'], 'InsightsReferer': ['http://www.acmeservices.cn/insights/107-retracted-paper-follow-up-investigation-progress?regid=1501680857']}, {'utm_source': ['360'], 'utm_medium': ['ppc'], 'utm_term': ['runse'], 'utm_content': ['runseci'], 'utm_campaign': ['runse-xing']}, {}, {'': ['Brand', 'Brand', '意得缉'], 'e_creative': ['3234963890'], 'e_keywordid': ['11319867917']}, {'': ['Level 2', 'Level 2-Translation', '文献翻译'], 'e_creative': ['2158614963'], 'e_keywordid': ['6328421728']}, {'': ['Revising-new', 'English - Touching up', 'sci论文英语润色'], 'e_creative': ['645678004'], 'e_keywordid': ['2909426388']}, {'': ['Level 1', 'level 1- Submission', 'sci投稿流程'], 'e_creative': ['3312801461'], 'e_keywordid': ['13294172710']}, {'': ['2015-SCI Polishing', 'SCI Polishing - common', '润色sci论文'], 'e_creative': ['4116824831'], 'e_keywordid': ['16446996294']}, {'': ['2015-SCI Polishing', 'SCI Polishing - common', '润色sci论文'], 'e_creative': ['4116824831'], 'e_keywordid': ['16446996294']}, {'': ['2015-SCI Polishing', 'SCI Polishing - common', '润色sci论文'], 'e_creative': ['4116824834'], 'e_keywordid': ['16446996294']}, {'': ['2015-SCI Polishing', 'SCI Polishing - common', '润色sci论文'], 'e_creative': ['4116824834'], 'e_keywordid': ['16446996294']}, {'': ['Level 1', 'Level 1-Editing Lab', '文章润色'], 'e_creative': ['3400687990'], 'e_keywordid': ['7112147932']}, {'utm_source': ['360'], 'utm_medium': ['ppc'], 'utm_term': ['pingpai'], 'utm_content': ['pingpaici'], 'utm_campaign': ['pingpaici-xing']}, {'from': ['timeline']}, {'from': ['groupmessage']}, {'from': ['groupmessage']}, {'utm_source': ['Baidu'], 'utm_medium': ['DPS'], 'utm_content': ['keywords'], 'utm_campaign': ['Baidu_DSP_keywords']}, {'': ['Revising-new', 'English - Touching up', '文章润色'], 'e_creative': ['742619311'], 'e_keywordid': ['4812035014']}, {'': ['Exact brand keyword (City)', 'Yi de ji', '意得辑'], 'e_creative': ['16293135591'], 'e_keywordid': ['62327781225']}, {'utm_source': ['360'], 'utm_medium': ['ppc'], 'utm_term': ['pingpai'], 'utm_content': ['pingpaici'], 'utm_campaign': ['pingpaici-xing']}, {'': ['Revising-new', 'English - Touching up', '文章润色'], 'e_creative': ['742619311'], 'e_keywordid': ['4812035014']}, {'utm_source': ['360'], 'utm_medium': ['ppc'], 'utm_term': ['pingpai'], 'utm_content': ['pingpaici'], 'utm_campaign': ['pingpaici-xing']}, {'utm_source': ['sougou'], 'utm_medium': ['ppc'], 'utm_term': ['pingpai'], 'utm_content': ['pingpaici'], 'utm_campaign': ['pingpaici-xing']}, {'': ['Focus keywords', 'Ying wen run se', '英文润色'], 'e_creative': ['15859112851'], 'e_keywordid': ['24604154499']}, {'': ['Revising-new', 'English - Touching up', '英语润色公司'], 'e_creative': ['645678004'], 'e_keywordid': ['2728857588']}, {'utm_source': ['Baidu'], 'utm_medium': ['cpc'], 'utm_term': ['acmeservices'], 'utm_content': ['acmeservices-brand'], 'utm_campaign': ['2015-acmeservices']}, {'access-denied-content': ['metered'], 'InsightsReferer': ['http://www.acmeservices.cn/insights/why-has-my-manuscript-status-changed-from-under-review-to-awaiting-reviewer-selection?regid=1501722073']}, {'utm_source': ['baidu'], 'utm_medium': ['ppc'], 'utm_term': ['pingpai'], 'utm_content': ['pingpaici'], 'utm_campaign': ['pingpaici-xing']}, {'': ['Exact brand keyword (City)', 'Yi de ji', '意得辑'], 'e_creative': ['16293135591'], 'e_keywordid': ['62327781225']}, {'access-denied-content': ['metered'], 'InsightsReferer': ['http://www.acmeservices.cn/insights/how-long-does-with-editor-status-take-after-submitting-revised-manuscript?regid=1501723856']}, {'': ['Exact brand keyword (City)', 'Yi de ji', '意得辑'], 'e_creative': ['16293135591'], 'e_keywordid': ['62327781225']}, {'hmsr': ['Newsletter'], 'hmmd': ['Article'], 'hmpl': ['New_client_1'], 'utm_campaign': ['New Client Grooming'], 'utm_source': ['hs_automation'], 'utm_medium': ['email'], 'utm_content': ['43513763'], '_hsenc': ['p2ANqtz-_DutrDS6twIfuaFp38h2m70brRAr2IPdEB8c46IH1Awy9XEzl8a8FZ-62_fVsjYlJ8YlO_lhQBRFeqe49WsPLkHrTpzQ'], '_hsmi': ['43513763']}, {'': ['2015-SCI Polishing', 'SCI Polishing - common', '润色sci论文'], 'e_creative': ['4116824834'], 'e_keywordid': ['16446996294']}, {'': ['Level 2', 'Level 2-Translation', '外文文献翻译'], 'e_creative': ['2158614963'], 'e_keywordid': ['6328421743']}, {'hmsr': ['Newsletter'], 'hmmd': ['Article'], 'hmpl': ['New_client_1'], 'utm_campaign': ['New Client Grooming'], 'utm_source': ['hs_automation'], 'utm_medium': ['email'], 'utm_content': ['43513763'], '_hsenc': ['p2ANqtz-_DutrDS6twIfuaFp38h2m70brRAr2IPdEB8c46IH1Awy9XEzl8a8FZ-62_fVsjYlJ8YlO_lhQBRFeqe49WsPLkHrTpzQ'], '_hsmi': ['43513763']}, {'access-denied-content': ['registered'], 'InsightsReferer': ['http://www.acmeservices.cn/insights/how-to-respond-to-comments-by-peer-reviewers?regid=1501725993']}, {'': ['Level 2', 'Level 2-Translation', '论文英文翻译'], 'e_creative': ['2158614963'], 'e_keywordid': ['6328421755']}, {'utm_source': ['baidu'], 'utm_medium': ['ppc'], 'utm_term': ['pingpai'], 'utm_content': ['pingpaici'], 'utm_campaign': ['pingpaici-xing']}, {'utm_source': ['Sougou'], 'utm_medium': ['cpc'], 'utm_term': ['acmeservices'], 'utm_content': ['acmeservices'], 'utm_campaign': ['Sougou_acmeservices_brand']}, {'utm_source': ['Baidu'], 'utm_medium': ['cpc'], 'utm_content': ['Yi_de_ji'], 'utm_campaign': ['Baidu_Brand_starting_line']}, {'utm_source': ['360'], 'utm_medium': ['ppc'], 'utm_term': ['fanyi'], 'utm_content': ['fanyici'], 'utm_campaign': ['fanyi-xing']}, {'utm_source': ['360'], 'utm_medium': ['ppc'], 'utm_term': ['pingpai'], 'utm_content': ['pingpaici'], 'utm_campaign': ['pingpaici-xing']}, {'': ['Exact brand keyword (City)', 'Yi de ji', '意得辑'], 'e_creative': ['16293135591'], 'e_keywordid': ['62327781225']}, {'utm_source': ['360'], 'utm_medium': ['ppc'], 'utm_term': ['pingpai'], 'utm_content': ['pingpaici'], 'utm_campaign': ['pingpaici-xing']}, {'utm_source': ['baidu'], 'utm_medium': ['ppc'], 'utm_term': ['pingpai'], 'utm_content': ['pingpaici'], 'utm_campaign': ['pingpaici-xing']}, {}, {}, {'utm_source': ['360'], 'utm_medium': ['ppc'], 'utm_term': ['fanyi'], 'utm_content': ['fanyici'], 'utm_campaign': ['fanyi-xing']}, {'utm_source': ['360'], 'utm_medium': ['cpc'], 'utm_content': ['acmeservices-brand'], 'utm_campaign': ['360_2015-acmeservices']}, {'utm_source': ['Baidu'], 'utm_medium': ['cpc'], 'utm_term': ['acmeservices'], 'utm_content': ['acmeservices-brand'], 'utm_campaign': ['2015-acmeservices']}, {'': ['Exact brand keyword (City)', 'Yi de ji', '意得辑'], 'e_creative': ['16293136443'], 'e_keywordid': ['62327781225']}, {'utm_source': ['360'], 'utm_medium': ['ppc'], 'utm_term': ['runse'], 'utm_content': ['runseci'], 'utm_campaign': ['runse-xing']}, {}, {'': ['Level 1', 'Level 1-Editing', '英语修改'], 'e_creative': ['2254734834'], 'e_keywordid': ['6340106553']}, {'': ['Level 2', 'Level 2-Publication', '发表sci'], 'e_creative': ['2265166871'], 'e_keywordid': ['6328921441']}, {'access-denied-content': ['metered'], 'InsightsReferer': ['http://www.acmeservices.cn/insights/does-the-status-decision-in-process-without-peer-review-imply-rejection?regid=1501731837']}, {'utm_source': ['360'], 'utm_medium': ['ppc'], 'utm_term': ['runse'], 'utm_content': ['runseci'], 'utm_campaign': ['runse-xing']}, {'': ['Exact brand keyword (City)', 'Yi de ji', '意得辑'], 'e_creative': ['16293135591'], 'e_keywordid': ['62327781225']}, {'': ['2015-acmeservices', 'acmeservices-brand-quality', '意得辑怎么样'], 'e_creative': ['9861799371'], 'e_keywordid': ['15638519736']}, {'from': ['timeline']}, {'': ['Exact brand keyword (City)', 'Yi de ji', '意得辑'], 'e_creative': ['16293135591'], 'e_keywordid': ['62327781225']}, {'': ['book', 'tushufanyi', '图书翻译'], 'e_creative': ['16653755484'], 'e_keywordid': ['62894376635']}, {'utm_source': ['Baidu'], 'utm_medium': ['cpc'], 'utm_content': ['How_is_yideji'], 'utm_campaign': ['Baidu_Phrase_brand_keywords']}, {'utm_source': ['360'], 'utm_medium': ['ppc'], 'utm_term': ['fanyi'], 'utm_content': ['fanyici'], 'utm_campaign': ['fanyi-xing']}, {'utm_source': ['360'], 'utm_medium': ['ppc'], 'utm_term': ['pingpai'], 'utm_content': ['pingpaici'], 'utm_campaign': ['pingpaici-xing']}, {'': ['Level 2', 'Level 2-Translation', '简历翻译'], 'e_creative': ['2158614963'], 'e_keywordid': ['6328421749']}, {'': ['Exact brand keyword (City)', 'Yi de ji', '意得辑'], 'e_creative': ['16293135591'], 'e_keywordid': ['62327781225']}, {'utm_source': ['360'], 'utm_medium': ['ppc'], 'utm_term': ['pingpai'], 'utm_content': ['pingpaici'], 'utm_campaign': ['pingpaici-xing']}, {'from': ['groupmessage']}, {'': ['2016-WOM', '拓流_3_2_WOM-quality', '英文学术论文润色'], 'e_creative': ['11839321987'], 'e_keywordid': ['47598996107']}, {}, {'': ['2015-Paper Polishing', 'Papers polishing - common', '学术论文润色'], 'e_creative': ['4061675016'], 'e_keywordid': ['16016128872']}, {'': ['Level 1', 'level 1- Submission', 'sci投稿流程'], 'e_creative': ['3312801461'], 'e_keywordid': ['13294172710']}, {'': ['Level 2', 'Level 2-Translation', '论文 翻译'], 'e_creative': ['2158614963'], 'e_keywordid': ['6348583176']}, {'access-denied-content': ['metered'], 'InsightsReferer': ['http://www.acmeservices.cn/insights/how-will-a-retracted-paper-affect-my-reputation?regid=1501733990']}, {'access-denied-content': ['metered'], 'InsightsReferer': ['http://www.acmeservices.cn/insights/what-are-the-most-common-reasons-for-retraction?regid=1501734347']}, {'utm_source': ['Baidu'], 'utm_medium': ['cpc'], 'utm_content': ['Yi_de_ji'], 'utm_campaign': ['Baidu_Brand_starting_line']}, {'access-denied-content': ['metered'], 'InsightsReferer': ['http://www.acmeservices.cn/insights/what-every-researcher-should-know-about-retraction?regid=1501734422']}, {'': ['Publication-new', 'Journal submission', 'sci怎么投稿'], 'e_creative': ['1259789807'], 'e_keywordid': ['3245864048']}, {'utm_source': ['baidu'], 'utm_medium': ['ppc'], 'utm_term': ['pingpai'], 'utm_content': ['pingpaici'], 'utm_campaign': ['pingpaici-xing']}, {'': ['2015-Compete', 'Compete-common', 'AJE润色'], 'e_creative': ['4439275280'], 'e_keywordid': ['15562360000']}, {'': ['Level 1', 'level 1- Submission', 'sci投稿流程'], 'e_creative': ['3312801461'], 'e_keywordid': ['13294172710']}, {'': ['book', 'tushufanyi', '图书翻译'], 'e_creative': ['16653755484'], 'e_keywordid': ['62894376635']}, {'utm_source': ['360'], 'utm_medium': ['ppc'], 'utm_term': ['pingpai'], 'utm_content': ['pingpaici'], 'utm_campaign': ['pingpaici-xing']}, {'': ['2015-Compete', 'Compete-common', 'AJE润色'], 'e_creative': ['4439275280'], 'e_keywordid': ['15562360000']}, {'utm_source': ['360'], 'utm_medium': ['ppc'], 'utm_term': ['fanyi'], 'utm_content': ['fanyici'], 'utm_campaign': ['fanyi-xing']}, {'access-denied-content': ['metered'], 'InsightsReferer': ['http://www.acmeservices.cn/insights/the-status-of-my-paper-is-under-review-for-over-four-months-what-should-i-do?regid=1501739647']}, {'access-denied-content': ['metered'], 'InsightsReferer': ['http://www.acmeservices.cn/insights/what-should-i-include-when-writing-the-reasons-for-recommeding-preferred-reviewers?regid=1501739777']}, {'utm_source': ['360'], 'utm_medium': ['ppc'], 'utm_term': ['pingpai'], 'utm_content': ['pingpaici'], 'utm_campaign': ['pingpaici-xing']}, {'utm_source': ['sougou'], 'utm_medium': ['ppc'], 'utm_term': ['pingpai'], 'utm_content': ['pingpaici'], 'utm_campaign': ['pingpaici-xing']}, {'': ['2015-English Polishing', 'English Polishing - company', '英文润色 公司'], 'e_creative': ['4050655497'], 'e_keywordid': ['17032695479']}, {'keyword': ['acmeservices クーポン'], 'matchtype': ['p'], 'device': ['c'], 'creative': ['204997406530'], 'gclid': ['CPa9yNKWhtUCFRR-vQodHI8JuQ']}, {'keyword': ['acmeservices'], 'matchtype': ['e'], 'device': ['c'], 'creative': ['204997406530'], 'gclid': ['CjwKEAjwtJzLBRC7z43vr63nr3wSJABjJDgJeHCREfuVbf32dhwv2DYITxM7btBdIueoKXDIvbwbmRoCs7Pw_wcB']}, {'keyword': ['acmeservices'], 'matchtype': ['e'], 'device': ['c'], 'creative': ['204997406530'], 'gclid': ['CjwKEAjwtJzLBRC7z43vr63nr3wSJABjJDgJtliL3KeoYFOy-DnsDl3Dghakj-39QiWt0obyg2BGJhoCKcbw_wcB']}, {'keyword': ['acmeservices'], 'matchtype': ['e'], 'device': ['c'], 'creative': ['138857680233'], 'gclid': ['CIbtt4GrhtUCFRR8vQodAwUE7g']}, {'keyword': ['acmeservices'], 'matchtype': ['e'], 'device': ['c'], 'creative': ['138857680233'], 'gclid': ['CjwKEAjwtJzLBRC7z43vr63nr3wSJABjJDgJOqR2SIKNKHYrg7FeAP1vcQVYQNyGTBf9ia28u6CE5xoC3Trw_wcB']}, {'keyword': ['acmeservices'], 'matchtype': ['e'], 'device': ['c'], 'creative': ['204997406530'], 'gclid': ['CjwKEAjwtJzLBRC7z43vr63nr3wSJABjJDgJf6XK-RhKrzo8FlFAxeJnvtKT7K-ueG7Z80HlNZ9mkhoCJxDw_wcB']}, {'keyword': ['acmeservices'], 'matchtype': ['e'], 'device': ['c'], 'creative': ['204997406530'], 'gclid': ['COaC0bHIh9UCFVCAvQodPy8Gvg']}, {'gclid': ['COG-muChzdECFdYSaAodtOIN0A']}, {'keyword': ['acmeservices'], 'matchtype': ['e'], 'device': ['c'], 'creative': ['138857680233'], 'gclid': ['CjwKEAjwtJzLBRC7z43vr63nr3wSJABjJDgJpEo8n9QN-nRfIF6Hxt_mBbaOf5Mu5Hyys9Jlfi7tLRoCWVjw_wcB']}, {'keyword': ['acmeservices'], 'matchtype': ['e'], 'device': ['c'], 'creative': ['138857680233'], 'gclid': ['COGbtZHTh9UCFVB9vQodQyMAYg']}, {'keyword': ['acmeservices'], 'matchtype': ['p'], 'device': ['c'], 'creative': ['204997406530'], 'gclid': ['CM_uiMfTh9UCFcl_vQodHvYBXg']}, {'keyword': ['acmeservices'], 'matchtype': ['e'], 'device': ['c'], 'creative': ['204997406530'], 'gclid': ['CjwKEAjwtJzLBRC7z43vr63nr3wSJABjJDgJ-wqR4rslYlqkekchLCLWTbee66YGrojITePaSHvGHhoC3Unw_wcB']}, {'gclid': ['CMTQq6WlzMICFUcHvAodrxkApQ']}, {'keyword': ['acmeservices'], 'matchtype': ['e'], 'device': ['c'], 'creative': ['204997406530'], 'gclid': ['CjwKEAjwtJzLBRC7z43vr63nr3wSJABjJDgJU3jtMrhtfJVIA9kL2Ya-ZZcSWFVucvNvpF4FU8Mh3RoC54bw_wcB']}, {'gclid': ['CJuYm_uCmdMCFVEEKgodl_EJkA']}, {'keyword': ['journal%20of%20cancer'], 'matchtype': ['b'], 'device': ['c'], 'creative': ['88686187584'], 'gclid': ['CjwKEAjw16HLBRDF9L2UmOCH7U8SJAASVESoPr_B-uYcoEQJHqfl4vxyDNsIt-JsBW64kLvNENxrlhoCacXw_wcB']}, {'keyword': ['acmeservices クーポン'], 'matchtype': ['p'], 'device': ['c'], 'creative': ['138857680233'], 'gclid': ['CjwKEAjw16HLBRDF9L2UmOCH7U8SJAASVESo1DPtAuQ6bSYMdOfJCgSuSM3m9RrkZGo6pcYhhIxg_xoCoqfw_wcB']}, {'keyword': ['acmeservices'], 'matchtype': ['e'], 'device': ['c'], 'creative': ['138857680233'], 'gclid': ['CInQtsCkiNUCFVAKKgod1DYKUw']}, {'keyword': ['acmeservices'], 'matchtype': ['e'], 'device': ['c'], 'creative': ['204997406530'], 'gclid': ['CjwKEAjw16HLBRDF9L2UmOCH7U8SJAASVESoeUWCVQGc9OyBTyZXlVtOSssr7emShknOV1Vo_XX4uhoCCc_w_wcB']}, {'keyword': ['acmeservices'], 'matchtype': ['e'], 'device': ['c'], 'creative': ['138857680233'], 'gclid': ['CjwKEAjw16HLBRDF9L2UmOCH7U8SJAASVESoPZTdhPeTLCco1MCqkf45mcut5rlrRuIRvFCK6mRjoBoCCCvw_wcB']}, {'keyword': ['acmeservices'], 'matchtype': ['e'], 'device': ['c'], 'creative': ['138857680233'], 'gclid': ['CMP41d2xiNUCFRMKKgodMbIF4Q']}, {'utm_source': ['criteo'], 'utm_medium': ['cpc'], 'utm_term': ['remarketing'], 'utm_campaign': ['remarketing']}, {'utm_campaign': ['JPN%20-%20Promotions'], 'utm_source': ['hs_email'], 'utm_medium': ['email'], 'utm_content': ['45669271'], '_hsenc': ['p2ANqtz--r7aitLXpEAhy8m63-gDwuJ9lOEQTnzMi-zq_IDNWL_KX7KfJeL_nDyuEnIhNKBr5cng5N5tvGQPm-W4dzRdWsBcEXMQ'], '_hsmi': ['45669271']}, {'keyword': ['acmeservices'], 'matchtype': ['e'], 'device': ['c'], 'creative': ['204997406530'], 'gclid': ['CjwKEAjw16HLBRDF9L2UmOCH7U8SJAASVESoFRFUqybstVS0pAu4XHe2d3aFG6IpZeifG_ZVIcYt5BoCJJPw_wcB']}, {'keyword': ['acmeservices'], 'matchtype': ['e'], 'device': ['c'], 'creative': ['204997406530'], 'gclid': ['CISDs9DhiNUCFch_vQodG48Gjg']}, {'keyword': ['acmeservices'], 'matchtype': ['e'], 'device': ['c'], 'creative': ['138857680233'], 'gclid': ['CjwKEAjw16HLBRDF9L2UmOCH7U8SJAASVESoG7aYXnAjeo5HPW5dNoIwmHKF4B0yu8qivSl4y0sCQRoCY3Pw_wcB']}, {'keyword': ['acmeservices'], 'matchtype': ['e'], 'device': ['c'], 'creative': ['204997406530'], 'gclid': ['CjwKEAjw16HLBRDF9L2UmOCH7U8SJAASVESo2hJw86vrnboAdMgDHxnAiz-7SwX6UzolWlm3cBigahoCXJnw_wcB']}, {'keyword': ['acmeservices'], 'matchtype': ['e'], 'device': ['c'], 'creative': ['138857680233'], 'gclid': ['CIfEvdf7idUCFVR-vQodQyMHlQ']}, {'keyword': ['acmeservices'], 'matchtype': ['e'], 'device': ['c'], 'creative': ['204997406530'], 'gclid': ['CjwKEAjw16HLBRDF9L2UmOCH7U8SJAASVESoEtybuJfGUjF0RQgl0AllliyTNkamH1qmqCRXP8ZXthoCR8jw_wcB']}, {'keyword': ['acmeservices'], 'matchtype': ['e'], 'device': ['c'], 'creative': ['138857680233'], 'gclid': ['CjwKEAjwtJzLBRC7z43vr63nr3wSJABjJDgJy9cUnPzlhTmnqfRRmnViLivo4N9Ac7d0EdCRPJzDIBoCSXLw_wcB']}, {'keyword': ['英文校正'], 'matchtype': ['b'], 'device': ['m'], 'creative': ['203090272007'], 'gclid': ['CjwKEAjwtJzLBRC7z43vr63nr3wSJABjJDgJO3O--IZFx_OcFRSbd3OGKoCYQQBHG0zWOW8LLJKV9RoCoLXw_wcB']}, {'keyword': ['acmeservices'], 'matchtype': ['e'], 'device': ['c'], 'creative': ['138857680233'], 'gclid': ['CMm3nJ2dhtUCFYYGKgodj8wLgw']}, {'keyword': ['acmeservices'], 'matchtype': ['e'], 'device': ['c'], 'creative': ['204997406530'], 'gclid': ['CM3DrIWphtUCFZsEKgodnzgIjQ']}, {'utm_source': ['criteo'], 'utm_medium': ['cpc'], 'utm_term': ['remarketing'], 'utm_campaign': ['remarketing']}, {'keyword': ['acmeservices'], 'matchtype': ['e'], 'device': ['c'], 'creative': ['204997406530'], 'gclid': ['CPjEo72zhtUCFVQFKgodnvAC9A']}, {'keyword': ['acmeservices'], 'matchtype': ['e'], 'device': ['c'], 'creative': ['138857680233'], 'gclid': ['CMONppe-htUCFZgEKgodMM4MwQ']}, {'keyword': ['acmeservices'], 'matchtype': ['e'], 'device': ['c'], 'creative': ['204997406530'], 'gclid': ['CjwKEAjw16HLBRDF9L2UmOCH7U8SJAASVESoZMd__PnR2GKK0DXlr_gwpwWClzBZ5jLIUHmF6PBvkxoCdJnw_wcB']}, {'keyword': ['acmeservices'], 'matchtype': ['e'], 'device': ['c'], 'creative': ['138857680233'], 'gclid': ['CjwKEAjw16HLBRDF9L2UmOCH7U8SJAASVESoN3mr95ZW0tvY72ywi4t5Q7TlNIGqB50wZ5iBUQnIBBoC38jw_wcB']}, {'keyword': ['acmeservices'], 'matchtype': ['e'], 'device': ['c'], 'creative': ['138857680233'], 'gclid': ['CPqi_9nkitUCFcwIKgodsmUAYw']}, {'keyword': ['acmeservices'], 'matchtype': ['e'], 'device': ['c'], 'creative': ['138857680233'], 'gclid': ['Cj0KEQjw-qbLBRD79JWsjuXI784BEiQAftBCI7nayh_MzFlkmJ2gKJ6MuFgjbtC1nbh5OYkO2T93R78aAgNM8P8HAQ']}, {'keyword': ['acmeservices'], 'matchtype': ['e'], 'device': ['c'], 'creative': ['138857680233'], 'gclid': ['CKig257uitUCFch_vQod5E4CDA']}, {'keyword': ['acmeservices'], 'matchtype': ['e'], 'device': ['c'], 'creative': ['138857680233'], 'gclid': ['Cj0KEQjw-qbLBRD79JWsjuXI784BEiQAftBCI7DgvAtEpP9DrQqMiZktFWuNTZFfeRBDmbLZHzOW-9AaAgdR8P8HAQ']}, {'keyword': ['acmeservices'], 'matchtype': ['e'], 'device': ['c'], 'creative': ['138857680233'], 'gclid': ['CNr31-byitUCFcaWvQod2sIJYg']}, {'keyword': ['acmeservices'], 'matchtype': ['e'], 'device': ['c'], 'creative': ['204997406530'], 'gclid': ['CP3u0IqDi9UCFdsDKgodPbAOUQ']}, {'keyword': ['acmeservices'], 'matchtype': ['e'], 'device': ['c'], 'creative': ['138857680233'], 'gclid': ['CMaPx4CZi9UCFVAEKgodOP0JHw']}, {'gclid': ['COvI9ZHzstQCFZcHKgodo_8KBA']}, {'utm_source': ['criteo'], 'utm_medium': ['cpc'], 'utm_term': ['remarketing'], 'utm_campaign': ['remarketing']}, {'keyword': ['acmeservices'], 'matchtype': ['e'], 'device': ['c'], 'creative': ['138857680233'], 'gclid': ['Cj0KEQjw-qbLBRD79JWsjuXI784BEiQAftBCI4LMqWjHjDqPfuuttOjhuQPJSLTA5nhEdsxOJJQurQMaAtTp8P8HAQ']}, {'keyword': ['acmeservices'], 'matchtype': ['e'], 'device': ['c'], 'creative': ['204997406530'], 'gclid': ['Cj0KEQjw-qbLBRD79JWsjuXI784BEiQAftBCI9l8vM3ozXVRprYtqbwVAo8xPqVktLyFdnWmnn1plFUaAlxk8P8HAQ']}, {'keyword': ['acmeservices'], 'matchtype': ['e'], 'device': ['c'], 'creative': ['138857680233'], 'gclid': ['CKS4rN28i9UCFRQFKgodjfMEoA']}, {'utm_campaign': ['JP - Obon 2016 campaign for NC%2FEC'], 'utm_source': ['hs_email'], 'utm_medium': ['email'], 'utm_content': ['32475444'], '_hsenc': ['p2ANqtz-9NHs9embrwe6tJoylrN0UVsm_vdYdj38zq2oB36VrGJIsBff3tqQ61ugAj3t012HKiCEzDjilzmKlINVN5b7BBblKbmw'], '_hsmi': ['32475444']}, {'utm_source': ['criteo'], 'utm_medium': ['cpc'], 'utm_term': ['remarketing'], 'utm_campaign': ['remarketing']}, {'keyword': ['acmeservices'], 'matchtype': ['e'], 'device': ['c'], 'creative': ['138857680233'], 'gclid': ['CMiu7KXChtUCFd4GKgod9TMFtw']}, {'keyword': ['acmeservices'], 'matchtype': ['e'], 'device': ['c'], 'creative': ['204997406530'], 'gclid': ['CjwKEAjwtJzLBRC7z43vr63nr3wSJABjJDgJSAxupSFvB2l7jVbz7PUN1EbOr_06K5EPOpuogN5pDhoC1efw_wcB']}, {'keyword': ['acmeservices'], 'matchtype': ['e'], 'device': ['c'], 'creative': ['138857680233'], 'gclid': ['CPvwmry_h9UCFZgIKgodw8sPXw']}, {'keyword': ['acmeservices'], 'matchtype': ['e'], 'device': ['c'], 'creative': ['204997406530'], 'gclid': ['CJn76uPDh9UCFUpWvQodRJcJfQ']}, {'keyword': ['acmeservices'], 'matchtype': ['e'], 'device': ['c'], 'creative': ['204997406530'], 'gclid': ['CKnTlYbHh9UCFUpWvQod4xMKXw']}, {'keyword': ['acmeservices'], 'matchtype': ['e'], 'device': ['c'], 'creative': ['138857680233'], 'gclid': ['CjwKEAjwtJzLBRC7z43vr63nr3wSJABjJDgJul-u2txJm11f_MQ3kUsShv9-NuEuBZjXAsmc7wRVaBoCsIrw_wcB']}, {'keyword': ['acmeservices'], 'matchtype': ['e'], 'device': ['c'], 'creative': ['138857680233'], 'gclid': ['CIXWyLjzh9UCFQt7vQodzPgFig']}, {'keyword': ['acmeservices'], 'matchtype': ['e'], 'device': ['c'], 'creative': ['138857680233'], 'gclid': ['CjwKEAjwtJzLBRC7z43vr63nr3wSJABjJDgJugFq2HP0YAiI9xpSHMemnusM-QlIJvQ0pHghedrO7xoC6Hrw_wcB']}, {'keyword': ['acmeservices'], 'matchtype': ['e'], 'device': ['c'], 'creative': ['204997406530'], 'gclid': ['CIHG1IjBjNUCFUF-vQod1eELSQ']}, {'keyword': ['acmeservices'], 'matchtype': ['e'], 'device': ['c'], 'creative': ['138857680233'], 'gclid': ['CISLhu3IjNUCFQR8vQod29gNUQ']}, {'keyword': ['acmeservices'], 'matchtype': ['e'], 'device': ['c'], 'creative': ['138857680233'], 'gclid': ['CP2u_uDJjNUCFYaTvQodGeUK4w']}, {'utm_campaign': ['JPN%20-%20CSR'], 'utm_source': ['hs_email'], 'utm_medium': ['email'], 'utm_content': ['52882755'], '_hsenc': ['p2ANqtz-8jTJ6veKbCEessAzXZUnfOxZPHnFBNrqBRZFash7qABhEaB1NMX91oAoZymuZz8G3IiggaM-573BJWoIPk5mANplPGlg'], '_hsmi': ['52882755']}, {'keyword': ['plos%20one'], 'matchtype': ['b'], 'device': ['c'], 'creative': ['88686187584'], 'gclid': ['EAIaIQobChMI_obewOeM1QIVlxmPCh303giyEAAYASAAEgIer_D_BwE']}, {'keyword': ['acmeservices'], 'matchtype': ['p'], 'device': ['c'], 'creative': ['204997406530'], 'gclid': ['Cj0KEQjw-qbLBRD79JWsjuXI784BEiQAftBCI6Hil1ZuUdk4gIRyZ0z5JM833SI0ciLY0GadBZyIoWsaAkeU8P8HAQ']}, {'keyword': ['acmeservices'], 'matchtype': ['e'], 'device': ['c'], 'creative': ['204997406530'], 'gclid': ['Cj0KEQjwnazLBRDxrdGMx-Km4oQBEiQAQJ1q66A5W-NWQS5qSu2rF5hW58p-kWFmh-rMcw9g8-VUfTYaAovJ8P8HAQ']}, {'keyword': ['acmeservices'], 'matchtype': ['e'], 'device': ['c'], 'creative': ['204997406530'], 'gclid': ['Cj0KEQjwnazLBRDxrdGMx-Km4oQBEiQAQJ1q65Yra9KrxwVjU7JMLjUxeZRhNS-tedxcyZHu6y_zM7kaAtyZ8P8HAQ']}, {'keyword': ['acmeservices'], 'matchtype': ['e'], 'device': ['c'], 'creative': ['138857680233'], 'gclid': ['CjwKEAjwtJzLBRC7z43vr63nr3wSJABjJDgJZ8b69eVQJheubr4ZMuvrsmMCjD9AP0gdRYuZk_uqlhoCcn3w_wcB']}, {'gclid': ['CMO6w7amqNICFYwsvQody_sHdQ']}, {'keyword': ['acmeservices'], 'matchtype': ['e'], 'device': ['c'], 'creative': ['138857680233'], 'gclid': ['CLSYstKLiNUCFcwHKgodiJwKwA']}, {'keyword': ['acmeservices'], 'matchtype': ['e'], 'device': ['c'], 'creative': ['138857680233'], 'gclid': ['CjwKEAjwtJzLBRC7z43vr63nr3wSJABjJDgJnnlKQf7IENAmAJbdjYjNKvALIkdnSS--5HI1_RhwXhoCXPLw_wcB']}, {'keyword': ['acmeservices'], 'matchtype': ['e'], 'device': ['c'], 'creative': ['204997406530'], 'gclid': ['CjwKEAjwtJzLBRC7z43vr63nr3wSJABjJDgJDdwl0j9e6Z2asVv1fZpP34wEAufdMv6tBXFcsrv5iRoCPE3w_wcB']}, {'keyword': ['acmeservices'], 'matchtype': ['e'], 'device': ['c'], 'creative': ['204997406530'], 'gclid': ['CjwKEAjwtJzLBRC7z43vr63nr3wSJABjJDgJrlwiqCpWi0XNugovlBUfmyXkOtdEiG0owGX2hNmulhoC0jjw_wcB']}, {'keyword': ['acmeservices'], 'matchtype': ['e'], 'device': ['c'], 'creative': ['138857680233'], 'gclid': ['CjwKEAjwtJzLBRC7z43vr63nr3wSJABjJDgJTErrVPw7NkjR3y3CkODO5EUFmT5VWtJzN7WiOyIyBxoC21bw_wcB']}, {'gclid': ['CJuYm_uCmdMCFVEEKgodl_EJkA']}, {'keyword': ['acmeservices'], 'matchtype': ['e'], 'device': ['c'], 'creative': ['138857680233'], 'gclid': ['CPSwrImdiNUCFRCVvQod3MYPFw']}, {'keyword': ['acmeservices'], 'matchtype': ['p'], 'device': ['c'], 'creative': ['138857680233'], 'gclid': ['CjwKEAjw16HLBRDF9L2UmOCH7U8SJAASVESotosUDysi1UYShJhois9vLO6GtLc8AVEMMPVRB_YWbhoCIjnw_wcB']}, {'keyword': ['acmeservices クーポン'], 'matchtype': ['p'], 'device': ['c'], 'creative': ['138857680233'], 'gclid': ['CjwKEAjw16HLBRDF9L2UmOCH7U8SJAASVESo08w9CnkK4FZ3dSeqA0YR0RObt2anCdsYxJUjHE9cmBoCLUHw_wcB']}, {'keyword': ['acmeservices クーポン'], 'matchtype': ['p'], 'device': ['c'], 'creative': ['138857680233'], 'gclid': ['CjwKEAjw16HLBRDF9L2UmOCH7U8SJAASVESo08w9CnkK4FZ3dSeqA0YR0RObt2anCdsYxJUjHE9cmBoCLUHw_wcB']}, {'keyword': ['acmeservices'], 'matchtype': ['e'], 'device': ['c'], 'creative': ['138857680233'], 'gclid': ['CjwKEAjw16HLBRDF9L2UmOCH7U8SJAASVESoaZlr8bhJUpY4Su6_nKDCLm_dlXSHb-38mzvtzVgbdhoCdPzw_wcB']}, {'keyword': ['acmeservices'], 'matchtype': ['e'], 'device': ['c'], 'creative': ['138857680233'], 'gclid': ['CJzJ6-LGiNUCFU5-vQodOvcEqw']}, {'keyword': ['acmeservices'], 'matchtype': ['e'], 'device': ['c'], 'creative': ['138857680233'], 'gclid': ['CKez68DKiNUCFcOSvQodk1oK4Q']}, {'keyword': ['acmeservices'], 'matchtype': ['e'], 'device': ['c'], 'creative': ['138857680233'], 'gclid': ['CJL8ioTriNUCFVIGKgodlnQA9Q']}, {'keyword': ['plos%20one'], 'matchtype': ['b'], 'device': ['c'], 'creative': ['88686187584']}, {'keyword': ['えぢたげ'], 'matchtype': ['b'], 'device': ['c'], 'creative': ['138857680233'], 'gclid': ['Cj0KEQjwnazLBRDxrdGMx-Km4oQBEiQAQJ1q65sUcWMNnwQvUnrdHvMRlrhfXl8HLjFE-PltLRPkC7AaAgyC8P8HAQ']}, {'keyword': ['acmeservices'], 'matchtype': ['e'], 'device': ['c'], 'creative': ['204997406530'], 'gclid': ['CKG_1facj9UCFQcFKgodekQCoQ']}, {'keyword': ['acmeservices'], 'matchtype': ['e'], 'device': ['c'], 'creative': ['204997406530'], 'gclid': ['Cj0KEQjwnazLBRDxrdGMx-Km4oQBEiQAQJ1q6xDzcMitiINFCV-_Z2DkkLjKIANpiLVE8CwU7NkaTksaAqlT8P8HAQ']}, {'keyword': ['acmeservices'], 'matchtype': ['e'], 'device': ['c'], 'creative': ['204997406530'], 'gclid': ['CJbalIawj9UCFQwKKgodC_kHiA']}, {'keyword': ['editate'], 'matchtype': ['p'], 'device': ['c'], 'creative': ['204997406530'], 'gclid': ['Cj0KEQjwnazLBRDxrdGMx-Km4oQBEiQAQJ1q62iDBlSv6u0yupN2qyxPbSBaPc1hKTST5bw-q4hWhpQaAqGq8P8HAQ']}, {'keyword': ['acmeservices'], 'matchtype': ['e'], 'device': ['c'], 'creative': ['138857680233'], 'gclid': ['CNqHmcDWj9UCFRGAvQodA3ALfA']}, {'gclid': ['CLCOl4GD7r0CFQFipQodkWkA_Q']}, {'keyword': ['acmeservices'], 'matchtype': ['e'], 'device': ['c'], 'creative': ['138857680233'], 'gclid': ['CMCM5Lrkj9UCFYkGKgodefoN3A']}, {'keyword': ['acmeservices'], 'matchtype': ['e'], 'device': ['c'], 'creative': ['204997406530'], 'gclid': ['CN_w5trtj9UCFZoKKgoddx4G-w']}, {'keyword': ['acmeservices'], 'matchtype': ['e'], 'device': ['c'], 'creative': ['138857680233'], 'gclid': ['CNiQn6Xwj9UCFdEHKgodAYMPEQ']}, {'utm_source': ['hs_email'], 'utm_medium': ['email'], 'utm_content': ['50925072'], '_hsenc': ['p2ANqtz--ALAqrQkT7jfQo14Mq8Rak8T0iQBZjYJVdZtpyuYIFTJnwxDSecDbDAaM3Xp4FU8zAvYMGpoL7N_82ox7z2nsn9UKujXu38_7xVUp96HK1_LlDFjM'], '_hsmi': ['50925072']}, {'keyword': ['acmeservices'], 'matchtype': ['e'], 'device': ['c'], 'creative': ['138857680233'], 'gclid': ['Cj0KEQjwwLHLBRDEq9DQxK2I_p8BEiQA3UDVDqUkpfGiqaR3ZGnAsniK-DwT8CRsbf9aEG2e13xj6YsaAsvv8P8HAQ']}, {'gclid': ['COvI9ZHzstQCFZcHKgodo_8KBA']}, {'keyword': ['acmeservices'], 'matchtype': ['e'], 'device': ['c'], 'creative': ['204997406530'], 'gclid': ['Cj0KEQjwwLHLBRDEq9DQxK2I_p8BEiQA3UDVDt9QXJLUy6RRGF-zas26_lacWRq6uUkfuZPeaB3j0yoaAiiE8P8HAQ']}, {'keyword': ['acmeservices'], 'matchtype': ['e'], 'device': ['c'], 'creative': ['204997406530'], 'gclid': ['CjwKEAjw16HLBRDF9L2UmOCH7U8SJAASVESodRR-XmX3DYFJ1Cm66NrcTnts-ecoueTfuMHpUKtzehoCU-_w_wcB']}, {'n_media': ['27758'], 'n_query': ['논문영문교정'], 'n_rank': ['2'], 'n_ad_group': ['grp-a001-01-000000000904743'], 'n_ad': ['nad-a001-01-000000012542618'], 'n_keyword_id': ['nkw-a001-01-000000155529249'], 'n_keyword': ['논문영문교정'], 'n_campaign_type': ['1'], 'NaPm': ['ct=j52cbb7s|ci=0yC00035jArnGGCy8uIe|tr=sa|hk=6fd561c8ec85bada5f331d98d37fe78f8dd002d1']}, {'service': ['editing']}, {'utm_source': ['kps'], 'utm_medium': ['referral'], 'utm_content': ['kps-banner']}, {'gclid': ['CODCh7GdhtUCFQojvQoduCcHog']}, {'DMCOL': ['DDN']}, {'gclid': ['CPzSqtGhhtUCFQ4EKgodsUgLeQ']}, {'gclid': ['CJC6lNyhhtUCFcsDKgodpugLWw']}, {'a': ['main']}, {'a': ['main']}, {'gclid': ['CI3Ql7i9htUCFYJ8vQodusQEUg']}, {'n_media': ['122875'], 'n_query': ['논문초록번역'], 'n_rank': ['2'], 'n_ad_group': ['grp-m001-01-000001066709242'], 'n_ad': ['nad-a001-01-000000015620286'], 'n_keyword_id': ['nkw-m001-01-000000780245324'], 'n_keyword': ['논문초록번역'], 'n_campaign_type': ['1'], 'NaPm': ['ct=j52jlygo|ci=0yK0002xvArnHok6G0LZ|tr=sa|hk=91e723b648268a4ea0bc7af19d412b6cffe9924b']}, {'n_media': ['27758'], 'n_query': ['의학영어번역'], 'n_rank': ['2'], 'n_ad_group': ['grp-a001-01-000000000904793'], 'n_ad': ['nad-a001-01-000000010550324'], 'n_keyword_id': ['nkw-a001-01-000000155528704'], 'n_keyword': ['의학영어번역'], 'n_campaign_type': ['1'], 'NaPm': ['ct=j52k0eiw|ci=0yK00015wkrngy97FKLe|tr=sa|hk=003c4d6bb4ab472229d5dd5025fac9840aaff863']}, {'a': ['main']}, {'gclid': ['CjwKEAjwtJzLBRC7z43vr63nr3wSJABjJDgJpOGK7Di--DfFgIIWnFwq_wFxlc9E6fdm6K_tflVYfBoCbybw_wcB']}, {'a': ['main']}, {'DMCOL': ['DDN']}, {'gclid': ['CK-Fv9jAh9UCFQomvQodlp4H2g']}, {'a': ['main']}, {'a': ['main']}, {'DMCOL': ['DDN']}, {'DMCOL': ['DDN']}, {'gclid': ['CN7O7KHIh9UCFUpWvQodRJcJfQ']}, {'a': ['main']}, {'a': ['main']}, {'gclid': ['CMf-lqvOh9UCFZQDKgodQwAGRw']}, {'a': ['main']}, {'a': ['mainimage']}, {'a': ['main']}, {'a': ['main']}, {'n_media': ['27758'], 'n_query': ['국제저널'], 'n_rank': ['1'], 'n_ad_group': ['grp-a001-01-000000000928996'], 'n_ad': ['nad-a001-01-000000009948846'], 'n_keyword_id': ['nkw-a001-01-000000158579547'], 'n_keyword': ['국제저널'], 'n_campaign_type': ['1'], 'NaPm': ['ct=j538ojio|ci=0z40000w-QvnktG3S0Gv|tr=sa|hk=0e75876e0426cb709996745fb23afe5e6495187e']}, {'a': ['main']}, {'n_media': ['27758'], 'n_query': ['에디티지'], 'n_rank': ['1'], 'n_ad_group': ['grp-m001-01-000001204954837'], 'n_ad': ['nad-a001-01-000000012828819'], 'n_keyword_id': ['nkw-m001-01-000000332995837'], 'n_keyword': ['에디티지'], 'n_campaign_type': ['1'], 'NaPm': ['ct=j53a5eao|ci=0z800034b6vnD1BvVuOI|tr=sa|hk=493a70de5f601ee5f6be8a8f6b6a3bcdf8f0b59d']}, {'gclid': ['CKW-honmh9UCFU1rfgodaNUHUQ']}, {'a': ['main']}, {'a': ['main']}, {'a': ['main']}, {'a': ['main']}, {'a': ['mainimage']}, {'keyword': ['에디티지 코리아'], 'matchtype': ['e'], 'device': ['c'], 'creative': ['193296067628'], 'gclid': ['CjwKEAjwtJzLBRC7z43vr63nr3wSJABjJDgJA1G-hgJCqQTwflimC_CX7yi2vysVdk3SCt8q4_iQehoCPMDw_wcB']}, {'n_media': ['27758'], 'n_query': ['에디티지'], 'n_rank': ['1'], 'n_ad_group': ['grp-m001-01-000001204954837'], 'n_ad': ['nad-a001-01-000000012828819'], 'n_keyword_id': ['nkw-m001-01-000000332995837'], 'n_keyword': ['에디티지'], 'n_campaign_type': ['1'], 'NaPm': ['ct=j53dvzz4|ci=0yO0001ahkvn91dOYeT_|tr=sa|hk=34dbe125c20bb64a4f6477e87ab1c8bedaafcb13']}, {'keyword': ['에디티지'], 'matchtype': ['e'], 'device': ['c'], 'creative': ['191030186392'], 'gclid': ['CLKmgKz9h9UCFVMKKgodfAsDbA']}, {'service': ['editing']}, {'DMCOL': ['DDN']}, {'n_media': ['27758'], 'n_query': ['에디티지'], 'n_rank': ['1'], 'n_ad_group': ['grp-m001-01-000001204954837'], 'n_ad': ['nad-a001-01-000000006414045'], 'n_keyword_id': ['nkw-m001-01-000000332995837'], 'n_keyword': ['에디티지'], 'n_campaign_type': ['1'], 'NaPm': ['ct=iyqo9860|ci=0yS0001Jg9jmp9gjAKLq|tr=sa|hk=a879bfa1c0f06231df5f1f1235846c564bc416ce']}, {'DMKW': ['acmeservices'], 'DMSKW': ['acmeservices'], 'DMCOL': ['PM']}, {'a': ['main']}, {'a': ['main']}, {'a': ['main']}, {'a': ['main']}, {'a': ['main']}, {'keyword': ['acmeservices'], 'matchtype': ['e'], 'device': ['c'], 'creative': ['193296067634'], 'gclid': ['CMzQnPqPiNUCFRDYvQoduCEMSw']}, {'keyword': ['에디티지'], 'matchtype': ['e'], 'device': ['c'], 'creative': ['191030186392'], 'gclid': ['CM-Qkc-RiNUCFQF7vQodDv4NtQ']}, {'keyword': ['에디티지'], 'matchtype': ['e'], 'device': ['c'], 'creative': ['191030186392'], 'gclid': ['CPDtvq6TiNUCFY0rvQodO8AKRg']}, {'n_media': ['27758'], 'n_query': ['범죄학논문'], 'n_rank': ['1'], 'n_ad_group': ['grp-a001-01-000000000674126'], 'n_ad': ['nad-a001-01-000000010550563'], 'n_keyword_id': ['nkw-a001-01-000000111879464'], 'n_keyword': ['범죄학논문'], 'n_campaign_type': ['1'], 'NaPm': ['ct=j53i7o54|ci=0yy0002FokvnBNw1V0LY|tr=sa|hk=d13b7794607f328346eeb9d2babd45dffee89dc3']}, {'a': ['main']}, {'n_media': ['27758'], 'n_query': ['논문초록번역'], 'n_rank': ['2'], 'n_ad_group': ['grp-m001-01-000001066709242'], 'n_ad': ['nad-a001-01-000000015620286'], 'n_keyword_id': ['nkw-m001-01-000000780245324'], 'n_keyword': ['논문초록번역'], 'n_campaign_type': ['1'], 'NaPm': ['ct=j53ksyxs|ci=0z00002GsAvnBqimseQ1|tr=sa|hk=063e169b48067533758883f457282f793b65e053']}, {'n_media': ['27758'], 'n_query': ['의학논문번역'], 'n_rank': ['2'], 'n_ad_group': ['grp-a001-01-000000002580787'], 'n_ad': ['nad-a001-01-000000015629973'], 'n_keyword_id': ['nkw-a001-01-000000468781390'], 'n_keyword': ['의학논문번역'], 'n_campaign_type': ['1'], 'NaPm': ['ct=j53kxxy8|ci=0yy0002isQvn_ztDw0M1|tr=sa|hk=c9ebceebb02fc708b693004aa594e913e6c3a40f']}, {'keyword': ['에디티지'], 'matchtype': ['e'], 'device': ['c'], 'creative': ['191030186392'], 'gclid': ['CO2-78yqiNUCFQ0KKgodFRgAvQ']}, {'a': ['main']}, {'keyword': ['acmeservices'], 'matchtype': ['e'], 'device': ['c'], 'creative': ['193296067634'], 'gclid': ['CL-dkuyziNUCFRjYvQodhT4GEA']}, {'n_media': ['27758'], 'n_query': ['에디티지'], 'n_rank': ['1'], 'n_ad_group': ['grp-m001-01-000001204954837'], 'n_ad': ['nad-a001-01-000000006414045'], 'n_keyword_id': ['nkw-m001-01-000000332995837'], 'n_keyword': ['에디티지'], 'n_campaign_type': ['1'], 'NaPm': ['ct=iyqo9860|ci=0yS0001Jg9jmp9gjAKLq|tr=sa|hk=a879bfa1c0f06231df5f1f1235846c564bc416ce']}, {'a': ['main']}, {'a': ['main']}, {'a': ['main']}, {'keyword': ['에디티지'], 'matchtype': ['e'], 'device': ['c'], 'creative': ['191030186392'], 'gclid': ['CP_QgprJiNUCFUV0vQodZqABvw']}, {'keyword': ['acmeservices'], 'matchtype': ['e'], 'device': ['c'], 'creative': ['193296067634'], 'gclid': ['CLnkvefViNUCFYiBvQodLU4H8g']}, {'a': ['main']}, {'gclid': ['CjwKEAjwtJzLBRC7z43vr63nr3wSJABjJDgJmPr-Q9WnPLyo-vQqz5l22MzmJQHLVh8TP65Jqs3h2xoCPCvw_wcB']}, {'device': ['m'], 'creative': ['199738455263'], 'gclid': ['CJu7uZPfiNUCFY-SvQodquMFKQ']}, {'a': ['main']}, {'device': ['m'], 'creative': ['199738455260'], 'gclid': ['CJmj_Kb0iNUCFYJ8vQodusQEUg']}, {'n_media': ['27758'], 'n_query': ['논문초록번역'], 'n_rank': ['2'], 'n_ad_group': ['grp-m001-01-000001066709242'], 'n_ad': ['nad-a001-01-000000015620286'], 'n_keyword_id': ['nkw-m001-01-000000780245324'], 'n_keyword': ['논문초록번역'], 'n_campaign_type': ['1'], 'NaPm': ['ct=j541g88o|ci=0yi0003xTQvnHIJJ9eND|tr=sa|hk=d2642ae7b73b7ef713694c15c6f5f67d1f96289e']}, {'a': ['main']}, {'device': ['c'], 'creative': ['58358260007'], 'gclid': ['CNSRy8PEidUCFZYGKgodAc8ICA']}, {'keyword': ['의학번역'], 'matchtype': ['b'], 'device': ['c'], 'creative': ['198067188131'], 'gclid': ['CM7J_YTGidUCFUgEKgodQB0OcA']}, {'keyword': ['영문교정'], 'matchtype': ['b'], 'device': ['c'], 'creative': ['204955005003'], 'gclid': ['CJH_g4qQitUCFdglvQodIVIH9Q']}, {'keyword': ['전문 번역'], 'matchtype': ['b'], 'device': ['c'], 'creative': ['195364855599'], 'gclid': ['CjwKEAjw16HLBRDF9L2UmOCH7U8SJAASVESoX9ZdaTcC6drcXdOVRGkILQ0LAevhlHVFkRxifSKQbxoCvFLw_wcB']}, {'keyword': ['acmeservices'], 'matchtype': ['e'], 'device': ['c'], 'creative': ['193296067634'], 'gclid': ['CjwKEAjw16HLBRDF9L2UmOCH7U8SJAASVESo_ye7I1G4KL1876U2RzknPu60P1h180WOp3EVYlQYIhoCJwPw_wcB']}, {'device': ['m'], 'creative': ['199738455260'], 'gclid': ['CLP_zuegitUCFU5-vQodS70Biw']}, {'device': ['m'], 'creative': ['199738455260'], 'gclid': ['CPmRrOmjitUCFcOSvQodvVIFwQ']}, {'DMKW': ['의학논문번역'], 'DMSKW': ['의학논문번역'], 'DMCOL': ['PM']}, {'device': ['t'], 'creative': ['199738455260'], 'gclid': ['CITt8aquitUCFVIGKgod9koL_Q']}, {'keyword': ['의학논문교정'], 'matchtype': ['e'], 'device': ['m'], 'creative': ['194038743105'], 'gclid': ['CKaL1cuvitUCFcSkvQodkfANwA']}, {'a': ['main']}, {'a': ['main']}, {'a': ['main']}, {'a': ['main']}, {'a': ['main']}, {'keyword': ['impact factor'], 'matchtype': ['b'], 'device': ['c'], 'creative': ['148425629885'], 'gclid': ['CMXCgdzLitUCFaQV0wodrcUNbg']}, {'DMCOL': ['DDN']}, {'a': ['main']}, {'keyword': ['에디티지'], 'matchtype': ['e'], 'device': ['c'], 'creative': ['191030186392'], 'gclid': ['CN3ExpD0itUCFc4DKgodLP8EYQ']}, {'DMKW': ['에디티지'], 'DMSKW': ['에디티지'], 'DMCOL': ['PM']}, {'keyword': ['에디티지'], 'matchtype': ['e'], 'device': ['c'], 'creative': ['191030186392'], 'gclid': ['CIyp6tH2itUCFdsIKgodmkACpw']}, {'keyword': ['논문초록작성법'], 'matchtype': ['b'], 'device': ['c'], 'creative': ['148425629885'], 'gclid': ['CKTJrcH4itUCFcSTvQodPBUAfQ']}, {'n_media': ['27758'], 'n_query': ['번역논문'], 'n_rank': ['1'], 'n_ad_group': ['grp-m001-01-000002029262577'], 'n_ad': ['nad-a001-01-000000015636625'], 'n_keyword_id': ['nkw-m001-01-000002029262577'], 'n_keyword': ['논문번역'], 'n_campaign_type': ['1'], 'NaPm': ['ct=j554h3uw|ci=0ym0003HTQznknlAlKS5|tr=sa|hk=9d475e25e026045c21d1c152919fe88b713afb6e']}, {'n_media': ['27758'], 'n_query': ['acmeservices'], 'n_rank': ['1'], 'n_ad_group': ['grp-m001-01-000001204954837'], 'n_ad': ['nad-a001-01-000000012828819'], 'n_keyword_id': ['nkw-m001-01-000000483897872'], 'n_keyword': ['acmeservices'], 'n_campaign_type': ['1'], 'NaPm': ['ct=j556ik5c|ci=0yO0001eXkznC0eOgKOa|tr=sa|hk=a9fccce6642cfe66cb2ca8cab275c492a718c1c1']}, {'n_media': ['27758'], 'n_query': ['논문번역'], 'n_rank': ['1'], 'n_ad_group': ['grp-m001-01-000002029262577'], 'n_ad': ['nad-a001-01-000000015636625'], 'n_keyword_id': ['nkw-m001-01-000002029262577'], 'n_keyword': ['논문번역'], 'n_campaign_type': ['1'], 'NaPm': ['ct=j557auo0|ci=0z40001SYAzn_8m7I0RT|tr=sa|hk=0cf1d3d95391dd861248685316d93b0d0dc67a03']}, {'n_media': ['27758'], 'n_query': ['논문번역'], 'n_rank': ['1'], 'n_ad_group': ['grp-m001-01-000002029262577'], 'n_ad': ['nad-a001-01-000000015636625'], 'n_keyword_id': ['nkw-m001-01-000002029262577'], 'n_keyword': ['논문번역'], 'n_campaign_type': ['1'], 'NaPm': ['ct=j5599gc0|ci=0z40001k1QDn-4vuOeJF|tr=sa|hk=a720da82c5da51f3986572a34f0acce4be9f46e9']}, {'keyword': ['에디티지'], 'matchtype': ['e'], 'device': ['c'], 'creative': ['191030186392'], 'gclid': ['CJrg-4mni9UCFcsKKgodxKQKKw']}]\n"
     ]
    }
   ],
   "source": [
    "import urllib.parse\n",
    "parsedquery=[]\n",
    "for i in first:\n",
    "    parsedquery.append(urllib.parse.parse_qs(i))\n",
    "print(parsedquery)"
   ]
  },
  {
   "cell_type": "code",
   "execution_count": 42,
   "metadata": {
    "scrolled": true
   },
   "outputs": [
    {
     "data": {
      "text/html": [
       "<div>\n",
       "<style scoped>\n",
       "    .dataframe tbody tr th:only-of-type {\n",
       "        vertical-align: middle;\n",
       "    }\n",
       "\n",
       "    .dataframe tbody tr th {\n",
       "        vertical-align: top;\n",
       "    }\n",
       "\n",
       "    .dataframe thead th {\n",
       "        text-align: right;\n",
       "    }\n",
       "</style>\n",
       "<table border=\"1\" class=\"dataframe\">\n",
       "  <thead>\n",
       "    <tr style=\"text-align: right;\">\n",
       "      <th></th>\n",
       "      <th>keyword</th>\n",
       "      <th>matchtype</th>\n",
       "      <th>device</th>\n",
       "      <th>creative</th>\n",
       "      <th>gclid</th>\n",
       "      <th>utm_source</th>\n",
       "      <th>utm_campaign</th>\n",
       "      <th>utm_medium</th>\n",
       "      <th>utm_term</th>\n",
       "      <th>utm_expid</th>\n",
       "      <th>...</th>\n",
       "      <th>n_ad</th>\n",
       "      <th>n_keyword_id</th>\n",
       "      <th>n_keyword</th>\n",
       "      <th>n_campaign_type</th>\n",
       "      <th>NaPm</th>\n",
       "      <th>service</th>\n",
       "      <th>DMCOL</th>\n",
       "      <th>a</th>\n",
       "      <th>DMKW</th>\n",
       "      <th>DMSKW</th>\n",
       "    </tr>\n",
       "  </thead>\n",
       "  <tbody>\n",
       "    <tr>\n",
       "      <td>0</td>\n",
       "      <td>[edit paper]</td>\n",
       "      <td>[e]</td>\n",
       "      <td>[c]</td>\n",
       "      <td>[201469956189]</td>\n",
       "      <td>[CMOHip-C_NQCFVJLDQod4RwGUA]</td>\n",
       "      <td>NaN</td>\n",
       "      <td>NaN</td>\n",
       "      <td>NaN</td>\n",
       "      <td>NaN</td>\n",
       "      <td>NaN</td>\n",
       "      <td>...</td>\n",
       "      <td>NaN</td>\n",
       "      <td>NaN</td>\n",
       "      <td>NaN</td>\n",
       "      <td>NaN</td>\n",
       "      <td>NaN</td>\n",
       "      <td>NaN</td>\n",
       "      <td>NaN</td>\n",
       "      <td>NaN</td>\n",
       "      <td>NaN</td>\n",
       "      <td>NaN</td>\n",
       "    </tr>\n",
       "    <tr>\n",
       "      <td>1</td>\n",
       "      <td>[professional editing services]</td>\n",
       "      <td>[e]</td>\n",
       "      <td>[c]</td>\n",
       "      <td>[201469956228]</td>\n",
       "      <td>[CjwKEAjwqIfLBRCk6vH_rJq7yD0SJACG18frd6-0DE5ER...</td>\n",
       "      <td>NaN</td>\n",
       "      <td>NaN</td>\n",
       "      <td>NaN</td>\n",
       "      <td>NaN</td>\n",
       "      <td>NaN</td>\n",
       "      <td>...</td>\n",
       "      <td>NaN</td>\n",
       "      <td>NaN</td>\n",
       "      <td>NaN</td>\n",
       "      <td>NaN</td>\n",
       "      <td>NaN</td>\n",
       "      <td>NaN</td>\n",
       "      <td>NaN</td>\n",
       "      <td>NaN</td>\n",
       "      <td>NaN</td>\n",
       "      <td>NaN</td>\n",
       "    </tr>\n",
       "    <tr>\n",
       "      <td>2</td>\n",
       "      <td>[academic proofreading]</td>\n",
       "      <td>[p]</td>\n",
       "      <td>[c]</td>\n",
       "      <td>[204838723656]</td>\n",
       "      <td>[CIXsrsyE_NQCFROHswodehQHkA]</td>\n",
       "      <td>NaN</td>\n",
       "      <td>NaN</td>\n",
       "      <td>NaN</td>\n",
       "      <td>NaN</td>\n",
       "      <td>NaN</td>\n",
       "      <td>...</td>\n",
       "      <td>NaN</td>\n",
       "      <td>NaN</td>\n",
       "      <td>NaN</td>\n",
       "      <td>NaN</td>\n",
       "      <td>NaN</td>\n",
       "      <td>NaN</td>\n",
       "      <td>NaN</td>\n",
       "      <td>NaN</td>\n",
       "      <td>NaN</td>\n",
       "      <td>NaN</td>\n",
       "    </tr>\n",
       "    <tr>\n",
       "      <td>3</td>\n",
       "      <td>[language editing service]</td>\n",
       "      <td>[p]</td>\n",
       "      <td>[c]</td>\n",
       "      <td>[201465365924]</td>\n",
       "      <td>[CjwKCAjwqIfLBRAkEiwAhtfH6_uus09gDdK39ITo102x-...</td>\n",
       "      <td>NaN</td>\n",
       "      <td>NaN</td>\n",
       "      <td>NaN</td>\n",
       "      <td>NaN</td>\n",
       "      <td>NaN</td>\n",
       "      <td>...</td>\n",
       "      <td>NaN</td>\n",
       "      <td>NaN</td>\n",
       "      <td>NaN</td>\n",
       "      <td>NaN</td>\n",
       "      <td>NaN</td>\n",
       "      <td>NaN</td>\n",
       "      <td>NaN</td>\n",
       "      <td>NaN</td>\n",
       "      <td>NaN</td>\n",
       "      <td>NaN</td>\n",
       "    </tr>\n",
       "    <tr>\n",
       "      <td>4</td>\n",
       "      <td>[language editing]</td>\n",
       "      <td>[p]</td>\n",
       "      <td>[c]</td>\n",
       "      <td>[201456839030]</td>\n",
       "      <td>[CjwKEAjwqIfLBRCk6vH_rJq7yD0SJACG18fraU0P5DXYV...</td>\n",
       "      <td>NaN</td>\n",
       "      <td>NaN</td>\n",
       "      <td>NaN</td>\n",
       "      <td>NaN</td>\n",
       "      <td>NaN</td>\n",
       "      <td>...</td>\n",
       "      <td>NaN</td>\n",
       "      <td>NaN</td>\n",
       "      <td>NaN</td>\n",
       "      <td>NaN</td>\n",
       "      <td>NaN</td>\n",
       "      <td>NaN</td>\n",
       "      <td>NaN</td>\n",
       "      <td>NaN</td>\n",
       "      <td>NaN</td>\n",
       "      <td>NaN</td>\n",
       "    </tr>\n",
       "    <tr>\n",
       "      <td>5</td>\n",
       "      <td>[english editing]</td>\n",
       "      <td>[e]</td>\n",
       "      <td>[c]</td>\n",
       "      <td>[201469955973]</td>\n",
       "      <td>[CM-f6LWV_NQCFUWIjwodCbcJkQ]</td>\n",
       "      <td>NaN</td>\n",
       "      <td>NaN</td>\n",
       "      <td>NaN</td>\n",
       "      <td>NaN</td>\n",
       "      <td>NaN</td>\n",
       "      <td>...</td>\n",
       "      <td>NaN</td>\n",
       "      <td>NaN</td>\n",
       "      <td>NaN</td>\n",
       "      <td>NaN</td>\n",
       "      <td>NaN</td>\n",
       "      <td>NaN</td>\n",
       "      <td>NaN</td>\n",
       "      <td>NaN</td>\n",
       "      <td>NaN</td>\n",
       "      <td>NaN</td>\n",
       "    </tr>\n",
       "    <tr>\n",
       "      <td>6</td>\n",
       "      <td>[language editing]</td>\n",
       "      <td>[e]</td>\n",
       "      <td>[c]</td>\n",
       "      <td>[201469956195]</td>\n",
       "      <td>[CITn-cOh_NQCFdOHaAodMO8EdA]</td>\n",
       "      <td>NaN</td>\n",
       "      <td>NaN</td>\n",
       "      <td>NaN</td>\n",
       "      <td>NaN</td>\n",
       "      <td>NaN</td>\n",
       "      <td>...</td>\n",
       "      <td>NaN</td>\n",
       "      <td>NaN</td>\n",
       "      <td>NaN</td>\n",
       "      <td>NaN</td>\n",
       "      <td>NaN</td>\n",
       "      <td>NaN</td>\n",
       "      <td>NaN</td>\n",
       "      <td>NaN</td>\n",
       "      <td>NaN</td>\n",
       "      <td>NaN</td>\n",
       "    </tr>\n",
       "    <tr>\n",
       "      <td>7</td>\n",
       "      <td>[proofread service]</td>\n",
       "      <td>[e]</td>\n",
       "      <td>[c]</td>\n",
       "      <td>[201469955712]</td>\n",
       "      <td>[CjwKEAjwqIfLBRCk6vH_rJq7yD0SJACG18friNMnBYksR...</td>\n",
       "      <td>NaN</td>\n",
       "      <td>NaN</td>\n",
       "      <td>NaN</td>\n",
       "      <td>NaN</td>\n",
       "      <td>NaN</td>\n",
       "      <td>...</td>\n",
       "      <td>NaN</td>\n",
       "      <td>NaN</td>\n",
       "      <td>NaN</td>\n",
       "      <td>NaN</td>\n",
       "      <td>NaN</td>\n",
       "      <td>NaN</td>\n",
       "      <td>NaN</td>\n",
       "      <td>NaN</td>\n",
       "      <td>NaN</td>\n",
       "      <td>NaN</td>\n",
       "    </tr>\n",
       "    <tr>\n",
       "      <td>8</td>\n",
       "      <td>[+proofreading +thesis]</td>\n",
       "      <td>[b]</td>\n",
       "      <td>[c]</td>\n",
       "      <td>[201463927649]</td>\n",
       "      <td>[CjwKEAjwqIfLBRCk6vH_rJq7yD0SJACG18froO18rlKov...</td>\n",
       "      <td>NaN</td>\n",
       "      <td>NaN</td>\n",
       "      <td>NaN</td>\n",
       "      <td>NaN</td>\n",
       "      <td>NaN</td>\n",
       "      <td>...</td>\n",
       "      <td>NaN</td>\n",
       "      <td>NaN</td>\n",
       "      <td>NaN</td>\n",
       "      <td>NaN</td>\n",
       "      <td>NaN</td>\n",
       "      <td>NaN</td>\n",
       "      <td>NaN</td>\n",
       "      <td>NaN</td>\n",
       "      <td>NaN</td>\n",
       "      <td>NaN</td>\n",
       "    </tr>\n",
       "    <tr>\n",
       "      <td>9</td>\n",
       "      <td>[scientific editing]</td>\n",
       "      <td>[e]</td>\n",
       "      <td>[c]</td>\n",
       "      <td>[201469956360]</td>\n",
       "      <td>[CjwKEAjwqIfLBRCk6vH_rJq7yD0SJACG18fr09j84kjZA...</td>\n",
       "      <td>NaN</td>\n",
       "      <td>NaN</td>\n",
       "      <td>NaN</td>\n",
       "      <td>NaN</td>\n",
       "      <td>NaN</td>\n",
       "      <td>...</td>\n",
       "      <td>NaN</td>\n",
       "      <td>NaN</td>\n",
       "      <td>NaN</td>\n",
       "      <td>NaN</td>\n",
       "      <td>NaN</td>\n",
       "      <td>NaN</td>\n",
       "      <td>NaN</td>\n",
       "      <td>NaN</td>\n",
       "      <td>NaN</td>\n",
       "      <td>NaN</td>\n",
       "    </tr>\n",
       "  </tbody>\n",
       "</table>\n",
       "<p>10 rows × 37 columns</p>\n",
       "</div>"
      ],
      "text/plain": [
       "                           keyword matchtype device        creative  \\\n",
       "0                     [edit paper]       [e]    [c]  [201469956189]   \n",
       "1  [professional editing services]       [e]    [c]  [201469956228]   \n",
       "2          [academic proofreading]       [p]    [c]  [204838723656]   \n",
       "3       [language editing service]       [p]    [c]  [201465365924]   \n",
       "4               [language editing]       [p]    [c]  [201456839030]   \n",
       "5                [english editing]       [e]    [c]  [201469955973]   \n",
       "6               [language editing]       [e]    [c]  [201469956195]   \n",
       "7              [proofread service]       [e]    [c]  [201469955712]   \n",
       "8          [+proofreading +thesis]       [b]    [c]  [201463927649]   \n",
       "9             [scientific editing]       [e]    [c]  [201469956360]   \n",
       "\n",
       "                                               gclid utm_source utm_campaign  \\\n",
       "0                       [CMOHip-C_NQCFVJLDQod4RwGUA]        NaN          NaN   \n",
       "1  [CjwKEAjwqIfLBRCk6vH_rJq7yD0SJACG18frd6-0DE5ER...        NaN          NaN   \n",
       "2                       [CIXsrsyE_NQCFROHswodehQHkA]        NaN          NaN   \n",
       "3  [CjwKCAjwqIfLBRAkEiwAhtfH6_uus09gDdK39ITo102x-...        NaN          NaN   \n",
       "4  [CjwKEAjwqIfLBRCk6vH_rJq7yD0SJACG18fraU0P5DXYV...        NaN          NaN   \n",
       "5                       [CM-f6LWV_NQCFUWIjwodCbcJkQ]        NaN          NaN   \n",
       "6                       [CITn-cOh_NQCFdOHaAodMO8EdA]        NaN          NaN   \n",
       "7  [CjwKEAjwqIfLBRCk6vH_rJq7yD0SJACG18friNMnBYksR...        NaN          NaN   \n",
       "8  [CjwKEAjwqIfLBRCk6vH_rJq7yD0SJACG18froO18rlKov...        NaN          NaN   \n",
       "9  [CjwKEAjwqIfLBRCk6vH_rJq7yD0SJACG18fr09j84kjZA...        NaN          NaN   \n",
       "\n",
       "  utm_medium utm_term utm_expid  ... n_ad n_keyword_id n_keyword  \\\n",
       "0        NaN      NaN       NaN  ...  NaN          NaN       NaN   \n",
       "1        NaN      NaN       NaN  ...  NaN          NaN       NaN   \n",
       "2        NaN      NaN       NaN  ...  NaN          NaN       NaN   \n",
       "3        NaN      NaN       NaN  ...  NaN          NaN       NaN   \n",
       "4        NaN      NaN       NaN  ...  NaN          NaN       NaN   \n",
       "5        NaN      NaN       NaN  ...  NaN          NaN       NaN   \n",
       "6        NaN      NaN       NaN  ...  NaN          NaN       NaN   \n",
       "7        NaN      NaN       NaN  ...  NaN          NaN       NaN   \n",
       "8        NaN      NaN       NaN  ...  NaN          NaN       NaN   \n",
       "9        NaN      NaN       NaN  ...  NaN          NaN       NaN   \n",
       "\n",
       "  n_campaign_type NaPm service DMCOL    a DMKW DMSKW  \n",
       "0             NaN  NaN     NaN   NaN  NaN  NaN   NaN  \n",
       "1             NaN  NaN     NaN   NaN  NaN  NaN   NaN  \n",
       "2             NaN  NaN     NaN   NaN  NaN  NaN   NaN  \n",
       "3             NaN  NaN     NaN   NaN  NaN  NaN   NaN  \n",
       "4             NaN  NaN     NaN   NaN  NaN  NaN   NaN  \n",
       "5             NaN  NaN     NaN   NaN  NaN  NaN   NaN  \n",
       "6             NaN  NaN     NaN   NaN  NaN  NaN   NaN  \n",
       "7             NaN  NaN     NaN   NaN  NaN  NaN   NaN  \n",
       "8             NaN  NaN     NaN   NaN  NaN  NaN   NaN  \n",
       "9             NaN  NaN     NaN   NaN  NaN  NaN   NaN  \n",
       "\n",
       "[10 rows x 37 columns]"
      ]
     },
     "execution_count": 42,
     "metadata": {},
     "output_type": "execute_result"
    }
   ],
   "source": [
    "parsedquery1=parsedquery\n",
    "pd.DataFrame(parsedquery1).head(10)"
   ]
  },
  {
   "cell_type": "code",
   "execution_count": 44,
   "metadata": {
    "scrolled": false
   },
   "outputs": [
    {
     "name": "stdout",
     "output_type": "stream",
     "text": [
      "0                         [edit paper]\n",
      "1      [professional editing services]\n",
      "2              [academic proofreading]\n",
      "3           [language editing service]\n",
      "4                   [language editing]\n",
      "                    ...               \n",
      "395                                NaN\n",
      "396                                NaN\n",
      "397                                NaN\n",
      "398                                NaN\n",
      "399                             [에디티지]\n",
      "Name: keyword, Length: 400, dtype: object\n"
     ]
    }
   ],
   "source": [
    "data_1= pd.DataFrame(parsedquery1)\n",
    "keyworddata= data_1.loc[ : , 'keyword' ]\n",
    "print(keyworddata)"
   ]
  },
  {
   "cell_type": "code",
   "execution_count": 45,
   "metadata": {
    "scrolled": true
   },
   "outputs": [
    {
     "data": {
      "text/plain": [
       "[acmeservices]                           85\n",
       "[editing service]                         9\n",
       "[에디티지]                                    8\n",
       "[english editing]                         7\n",
       "[chinese to english translation]          6\n",
       "[korean to english translation]           6\n",
       "[japanese to english translation]         5\n",
       "[arabic%20to%20english%20translation]     5\n",
       "[language editing service]                4\n",
       "[acmeservices クーポン]                       4\n",
       "Name: keyword, dtype: int64"
      ]
     },
     "execution_count": 45,
     "metadata": {},
     "output_type": "execute_result"
    }
   ],
   "source": [
    "keyworddata.value_counts().head(10)"
   ]
  },
  {
   "cell_type": "code",
   "execution_count": 130,
   "metadata": {
    "scrolled": true
   },
   "outputs": [
    {
     "data": {
      "image/png": "[encoded data removed]",
      "text/plain": [
       "<Figure size 432x288 with 1 Axes>"
      ]
     },
     "metadata": {
      "needs_background": "light"
     },
     "output_type": "display_data"
    }
   ],
   "source": [
    "import matplotlib.pyplot as plt\n",
    "from konlpy.corpus import kobill\n",
    "keyworddata.value_counts().head(10).plot(kind='bar',position=1,width=0.75)\n",
    "width=0.75\n",
    "plt.xlabel('keywords', fontsize=0.5)\n",
    "plt.ylabel('Number of times', fontsize=20)\n",
    "plt.xticks(fontsize=12, rotation=90)\n",
    "plt.title('Most searched keywords')\n",
    "plt.show()"
   ]
  },
  {
   "cell_type": "code",
   "execution_count": 47,
   "metadata": {
    "scrolled": true
   },
   "outputs": [
    {
     "name": "stdout",
     "output_type": "stream",
     "text": [
      "0                 NaN\n",
      "1                 NaN\n",
      "2                 NaN\n",
      "3                 NaN\n",
      "4                 NaN\n",
      "            ...      \n",
      "395            [논문번역]\n",
      "396    [acmeservices]\n",
      "397            [논문번역]\n",
      "398            [논문번역]\n",
      "399               NaN\n",
      "Name: n_keyword, Length: 400, dtype: object\n"
     ]
    }
   ],
   "source": [
    "data_12= pd.DataFrame(parsedquery1)\n",
    "columnsData12 = data_12.loc[ : , 'n_keyword' ]\n",
    "print(columnsData12)"
   ]
  },
  {
   "cell_type": "code",
   "execution_count": 120,
   "metadata": {
    "scrolled": false
   },
   "outputs": [
    {
     "data": {
      "text/plain": [
       "[에디티지]            4\n",
       "[논문번역]            3\n",
       "[논문초록번역]          3\n",
       "[논문영문교정]          1\n",
       "[acmeservices]    1\n",
       "[의학논문번역]          1\n",
       "[범죄학논문]           1\n",
       "[국제저널]            1\n",
       "[의학영어번역]          1\n",
       "Name: n_keyword, dtype: int64"
      ]
     },
     "execution_count": 120,
     "metadata": {},
     "output_type": "execute_result"
    }
   ],
   "source": [
    "columnsData12.value_counts().head(10).decode()"
   ]
  },
  {
   "cell_type": "code",
   "execution_count": 131,
   "metadata": {},
   "outputs": [
    {
     "data": {
      "image/png": "[encoded data removed]",
      "text/plain": [
       "<Figure size 432x288 with 1 Axes>"
      ]
     },
     "metadata": {
      "needs_background": "light"
     },
     "output_type": "display_data"
    }
   ],
   "source": [
    "import matplotlib.pyplot as plt\n",
    "import jaconv\n",
    "columnsData12.value_counts().head(10).plot(kind='bar',position=1,width=0.75)\n",
    "width=0.75\n",
    "plt.xlabel('keywords', fontsize=0.5)\n",
    "plt.ylabel('Number of times', fontsize=20)\n",
    "plt.xticks(fontsize=10, rotation=90)\n",
    "plt.title('keywords from naver')\n",
    "plt.show()"
   ]
  },
  {
   "cell_type": "code",
   "execution_count": 121,
   "metadata": {
    "scrolled": false
   },
   "outputs": [
    {
     "name": "stdout",
     "output_type": "stream",
     "text": [
      "0      NaN\n",
      "1      NaN\n",
      "2      NaN\n",
      "3      NaN\n",
      "4      NaN\n",
      "      ... \n",
      "395    NaN\n",
      "396    NaN\n",
      "397    NaN\n",
      "398    NaN\n",
      "399    NaN\n",
      "Name: utm_source, Length: 400, dtype: object\n"
     ]
    }
   ],
   "source": [
    "data_1= pd.DataFrame(parsedquery1)\n",
    "utm_source= data_1.loc[ : , 'utm_source' ]\n",
    "print(utm_source)"
   ]
  },
  {
   "cell_type": "code",
   "execution_count": 124,
   "metadata": {
    "scrolled": false
   },
   "outputs": [
    {
     "data": {
      "text/plain": [
       "[360]              20\n",
       "[Baidu]             6\n",
       "[hs_email]          4\n",
       "[criteo]            4\n",
       "[baidu]             4\n",
       "[hs_automation]     3\n",
       "[social]            2\n",
       "[sougou]            2\n",
       "[kps]               1\n",
       "[Sougou]            1\n",
       "Name: utm_source, dtype: int64"
      ]
     },
     "execution_count": 124,
     "metadata": {},
     "output_type": "execute_result"
    }
   ],
   "source": [
    "utm_source.value_counts().head(10)"
   ]
  },
  {
   "cell_type": "code",
   "execution_count": 126,
   "metadata": {
    "scrolled": true
   },
   "outputs": [
    {
     "data": {
      "image/png": "[encoded data removed]",
      "text/plain": [
       "<Figure size 432x288 with 1 Axes>"
      ]
     },
     "metadata": {
      "needs_background": "light"
     },
     "output_type": "display_data"
    }
   ],
   "source": [
    "utm_source.value_counts().head(10).plot(kind='bar',position=1,width=0.75)\n",
    "width=0.75\n",
    "plt.xlabel('keywords', fontsize=0.5)\n",
    "plt.ylabel('Number of times', fontsize=20)\n",
    "plt.xticks(fontsize=10, rotation=30)\n",
    "plt.title('utm_source')\n",
    "plt.show()"
   ]
  },
  {
   "cell_type": "code",
   "execution_count": 128,
   "metadata": {},
   "outputs": [
    {
     "name": "stdout",
     "output_type": "stream",
     "text": [
      "0          NaN\n",
      "1          NaN\n",
      "2          NaN\n",
      "3          NaN\n",
      "4          NaN\n",
      "        ...   \n",
      "395    [27758]\n",
      "396    [27758]\n",
      "397    [27758]\n",
      "398    [27758]\n",
      "399        NaN\n",
      "Name: n_media, Length: 400, dtype: object\n"
     ]
    }
   ],
   "source": [
    "data_1= pd.DataFrame(parsedquery1)\n",
    "n_media1= data_1.loc[ : , 'n_media' ]\n",
    "print(n_media1)"
   ]
  },
  {
   "cell_type": "code",
   "execution_count": 129,
   "metadata": {},
   "outputs": [
    {
     "data": {
      "text/plain": [
       "[27758]     15\n",
       "[122875]     1\n",
       "Name: n_media, dtype: int64"
      ]
     },
     "execution_count": 129,
     "metadata": {},
     "output_type": "execute_result"
    }
   ],
   "source": [
    "n_media1.value_counts().head(10)"
   ]
  },
  {
   "cell_type": "code",
   "execution_count": 51,
   "metadata": {},
   "outputs": [
    {
     "name": "stdout",
     "output_type": "stream",
     "text": [
      "0      [201469956189]\n",
      "1      [201469956228]\n",
      "2      [204838723656]\n",
      "3      [201465365924]\n",
      "4      [201456839030]\n",
      "            ...      \n",
      "395               NaN\n",
      "396               NaN\n",
      "397               NaN\n",
      "398               NaN\n",
      "399    [191030186392]\n",
      "Name: creative, Length: 400, dtype: object\n"
     ]
    }
   ],
   "source": [
    "data_14= pd.DataFrame(parsedquery1)\n",
    "columnsData14 = data_14.loc[ : , 'creative' ]\n",
    "print(columnsData14)"
   ]
  },
  {
   "cell_type": "code",
   "execution_count": 52,
   "metadata": {},
   "outputs": [
    {
     "data": {
      "text/plain": [
       "[138857680233]    46\n",
       "[204997406530]    34\n",
       "[191030186392]     8\n",
       "[201469956162]     7\n",
       "[205836883169]     7\n",
       "[205823999007]     6\n",
       "[205875824095]     5\n",
       "[205876300984]     5\n",
       "[201498785419]     4\n",
       "[201460662900]     4\n",
       "Name: creative, dtype: int64"
      ]
     },
     "execution_count": 52,
     "metadata": {},
     "output_type": "execute_result"
    }
   ],
   "source": [
    "columnsData14.value_counts().head(10)"
   ]
  },
  {
   "cell_type": "code",
   "execution_count": 53,
   "metadata": {},
   "outputs": [
    {
     "data": {
      "image/png": "[encoded data removed]",
      "text/plain": [
       "<Figure size 432x288 with 1 Axes>"
      ]
     },
     "metadata": {
      "needs_background": "light"
     },
     "output_type": "display_data"
    }
   ],
   "source": [
    "import matplotlib.pyplot as plt\n",
    "columnsData14.value_counts().head(10).plot(kind='bar',position=1,width=0.75)\n",
    "width=0.75\n",
    "plt.xlabel('creatives', fontsize=0.5)\n",
    "plt.ylabel('Number of times', fontsize=20)\n",
    "plt.xticks(fontsize=8, rotation=90)\n",
    "plt.title('Creatives')\n",
    "plt.show()"
   ]
  },
  {
   "cell_type": "code",
   "execution_count": 56,
   "metadata": {},
   "outputs": [
    {
     "name": "stdout",
     "output_type": "stream",
     "text": [
      "0      NaN\n",
      "1      NaN\n",
      "2      NaN\n",
      "3      NaN\n",
      "4      NaN\n",
      "      ... \n",
      "395    [1]\n",
      "396    [1]\n",
      "397    [1]\n",
      "398    [1]\n",
      "399    NaN\n",
      "Name: n_campaign_type, Length: 400, dtype: object\n"
     ]
    }
   ],
   "source": [
    "data_13= pd.DataFrame(parsedquery1)\n",
    "columnsData13 = data_13.loc[ : , 'n_campaign_type' ]\n",
    "print(columnsData13)"
   ]
  },
  {
   "cell_type": "code",
   "execution_count": 57,
   "metadata": {},
   "outputs": [
    {
     "data": {
      "text/plain": [
       "[1]    16\n",
       "Name: n_campaign_type, dtype: int64"
      ]
     },
     "execution_count": 57,
     "metadata": {},
     "output_type": "execute_result"
    }
   ],
   "source": [
    "columnsData13.value_counts()"
   ]
  },
  {
   "cell_type": "code",
   "execution_count": 59,
   "metadata": {},
   "outputs": [
    {
     "name": "stdout",
     "output_type": "stream",
     "text": [
      "Browser(family='Chrome', version=(49, 0, 2623), version_string='49.0.2623')\n"
     ]
    }
   ],
   "source": [
    "###working on ua_string\n",
    "from user_agents import parse\n",
    "\n",
    "# iPhone's user agent string\n",
    "ua_string = 'Mozilla/5.0 (Windows NT 6.0) AppleWebKit/537.36 (KHTML, like Gecko) Chrome/49.0.2623.112 Safari/537.36'\n",
    "user_agent = parse(ua_string)\n",
    "b = user_agent.browser \n",
    "print(b)"
   ]
  },
  {
   "cell_type": "code",
   "execution_count": 60,
   "metadata": {},
   "outputs": [],
   "source": [
    "# Accessing user agent's browser attributes\n",
    "user_agent.browser \n",
    "user_agent.browser.family \n",
    "user_agent.browser.version  \n",
    "user_agent.browser.version_string  \n",
    "\n",
    "# Accessing user agent's operating system properties\n",
    "user_agent.os  \n",
    "user_agent.os.family  \n",
    "user_agent.os.version \n",
    "user_agent.os.version_string  \n",
    "\n",
    "# Accessing user agent's device properties\n",
    "user_agent.device  \n",
    "user_agent.device.family  \n",
    "user_agent.device.brand \n",
    "user_agent.device.model "
   ]
  },
  {
   "cell_type": "code",
   "execution_count": 61,
   "metadata": {
    "scrolled": true
   },
   "outputs": [
    {
     "name": "stdout",
     "output_type": "stream",
     "text": [
      "0       73.132.164.124\n",
      "1       100.35.108.133\n",
      "2       73.132.164.124\n",
      "3        159.255.163.4\n",
      "4         2.110.98.148\n",
      "            ...       \n",
      "395       1.11.219.228\n",
      "396    118.216.204.247\n",
      "397      112.166.57.50\n",
      "398       61.73.110.21\n",
      "399     128.134.207.82\n",
      "Name: geo_ip, Length: 400, dtype: object\n"
     ]
    }
   ],
   "source": [
    "df1=df[\"geo_ip\"]\n",
    "print(df1)\n"
   ]
  },
  {
   "cell_type": "code",
   "execution_count": 62,
   "metadata": {
    "scrolled": false
   },
   "outputs": [
    {
     "data": {
      "text/plain": [
       "115.41.255.87     7\n",
       "166.104.17.49     4\n",
       "183.198.20.157    3\n",
       "202.11.1.201      3\n",
       "147.46.165.149    3\n",
       "106.112.72.186    3\n",
       "220.64.140.98     2\n",
       "2.50.177.171      2\n",
       "121.131.87.40     2\n",
       "14.56.78.196      2\n",
       "Name: geo_ip, dtype: int64"
      ]
     },
     "execution_count": 62,
     "metadata": {},
     "output_type": "execute_result"
    }
   ],
   "source": [
    "df1.value_counts().head(10)"
   ]
  },
  {
   "cell_type": "code",
   "execution_count": 63,
   "metadata": {},
   "outputs": [
    {
     "data": {
      "image/png": "[encoded data removed]",
      "text/plain": [
       "<Figure size 432x288 with 1 Axes>"
      ]
     },
     "metadata": {
      "needs_background": "light"
     },
     "output_type": "display_data"
    }
   ],
   "source": [
    "import matplotlib.pyplot as plt\n",
    "df1.value_counts().head(10).plot(kind='bar',position=1,width=0.75)\n",
    "width=0.75\n",
    "plt.xlabel('IP address', fontsize=0.5)\n",
    "plt.ylabel('Number of times', fontsize=20)\n",
    "plt.xticks(fontsize=10, rotation=90)\n",
    "plt.title('Top IP addresses')\n",
    "plt.show()"
   ]
  },
  {
   "cell_type": "code",
   "execution_count": 64,
   "metadata": {},
   "outputs": [],
   "source": [
    "###Location information\n",
    "from ip2geotools.databases.noncommercial import DbIpCity\n",
    "response = DbIpCity.get('73.132.164.124', api_key='free')"
   ]
  },
  {
   "cell_type": "code",
   "execution_count": 65,
   "metadata": {},
   "outputs": [
    {
     "data": {
      "text/plain": [
       "'{\"ip_address\": \"73.132.164.124\", \"city\": \"Washington D.C. (Northwest Washington)\", \"region\": \"District of Columbia\", \"country\": \"US\", \"latitude\": null, \"longitude\": null}'"
      ]
     },
     "execution_count": 65,
     "metadata": {},
     "output_type": "execute_result"
    }
   ],
   "source": [
    "response.to_json()\n",
    "##Dbip is did not worked on some Ip addresses"
   ]
  },
  {
   "cell_type": "code",
   "execution_count": 106,
   "metadata": {},
   "outputs": [
    {
     "data": {
      "text/plain": [
       "China                   100\n",
       "Japan                    98\n",
       "United States            25\n",
       "India                    11\n",
       "Philippines               7\n",
       "United Kingdom            6\n",
       "Saudi Arabia              5\n",
       "Republic of Korea         5\n",
       "Canada                    3\n",
       "United Arab Emirates      3\n",
       "Name: country, dtype: int64"
      ]
     },
     "execution_count": 106,
     "metadata": {},
     "output_type": "execute_result"
    }
   ],
   "source": [
    "import time\n",
    "from geolite2 import geolite2\n",
    "geo = geolite2.reader()\n",
    "df_1 = df.loc[:300,['geo_ip']]\n",
    "\n",
    "def IP_info_1(ip):\n",
    "        try:\n",
    "            x = geo.get(ip)\n",
    "        except ValueError:\n",
    "            return np.nan\n",
    "        try:\n",
    "            return x['country']['names']['en'] if x is not None else np.nan\n",
    "        except KeyError:   #Faulty Key value\n",
    "            return np.nan\n",
    "\n",
    "s_time = time.time()\n",
    "# map IP --> country\n",
    "#apply(fn) applies fn. on all pd.series elements\n",
    "df_1['country'] = df_1.loc[:,'geo_ip'].apply(IP_info_1)\n",
    "#print(df_1.head(10), '\\n')\n",
    "#count = df_1\n",
    "#print(count)\n",
    "count_country= df_1['country']\n",
    "count_country.value_counts().head(10) "
   ]
  },
  {
   "cell_type": "code",
   "execution_count": 105,
   "metadata": {},
   "outputs": [
    {
     "data": {
      "image/png": "[encoded data removed]",
      "text/plain": [
       "<Figure size 432x288 with 1 Axes>"
      ]
     },
     "metadata": {
      "needs_background": "light"
     },
     "output_type": "display_data"
    }
   ],
   "source": [
    "import matplotlib.pyplot as plt\n",
    "count_country.value_counts().head(10) .plot(kind='bar',position=1,width=0.75)\n",
    "width=0.75\n",
    "plt.xlabel('IP address', fontsize=0.5)\n",
    "plt.ylabel('Number of times', fontsize=20)\n",
    "plt.xticks(fontsize=10, rotation=90)\n",
    "plt.title('Top Countries')\n",
    "plt.show()"
   ]
  }
 ],
 "metadata": {
  "kernelspec": {
   "display_name": "Python 3",
   "language": "python",
   "name": "python3"
  },
  "language_info": {
   "codemirror_mode": {
    "name": "ipython",
    "version": 3
   },
   "file_extension": ".py",
   "mimetype": "text/x-python",
   "name": "python",
   "nbconvert_exporter": "python",
   "pygments_lexer": "ipython3",
   "version": "3.7.4"
  }
 },
 "nbformat": 4,
 "nbformat_minor": 2
}
